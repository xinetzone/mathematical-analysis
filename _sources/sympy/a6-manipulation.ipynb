{
 "cells": [
  {
   "cell_type": "markdown",
   "id": "e83857dd",
   "metadata": {},
   "source": [
    "# 高级表达式操作\n",
    "\n",
    "参考 [Advanced Expression Manipulation](https://docs.sympy.org/latest/tutorial/manipulation.html)\n",
    "\n",
    "在本节中，我们将讨论一些可以对表达式执行高级操作的方法。\n",
    "\n",
    "## 理解表达式树\n",
    "\n",
    "在我们这样做之前，我们需要了解表达式在 SymPy 中是如何表示的。数学表达式表示为一棵树。让我们采用表达式 $x^2+xy$，即 `x**2 + x*y`。我们可以通过使用 `srepr` 在内部看到这个表达式的样子"
   ]
  },
  {
   "cell_type": "code",
   "execution_count": 1,
   "id": "d3941a74",
   "metadata": {},
   "outputs": [],
   "source": [
    "import warnings\n",
    "from sympy import *\n",
    "import pydot\n",
    "from IPython.display import SVG\n",
    "\n",
    "warnings.filterwarnings('ignore')\n",
    "\n",
    "def display_dot(expr):\n",
    "    g = pydot.graph_from_dot_data(dotprint(expr))[0]\n",
    "    g.set_bgcolor('lightyellow')\n",
    "    t = SVG(g.create_svg())\n",
    "    return t"
   ]
  },
  {
   "cell_type": "code",
   "execution_count": 2,
   "id": "746ff4f4",
   "metadata": {},
   "outputs": [
    {
     "data": {
      "text/plain": [
       "\"Add(Pow(Symbol('x'), Integer(2)), Mul(Symbol('x'), Symbol('y')))\""
      ]
     },
     "execution_count": 2,
     "metadata": {},
     "output_type": "execute_result"
    }
   ],
   "source": [
    "x, y, z = symbols('x y z')\n",
    "\n",
    "expr = x**2 + x*y\n",
    "srepr(expr)"
   ]
  },
  {
   "cell_type": "markdown",
   "id": "a6d5767d",
   "metadata": {},
   "source": [
    "拆解这个最简单的方法是查看表达式树的图表："
   ]
  },
  {
   "cell_type": "code",
   "execution_count": 3,
   "id": "c7d367e0",
   "metadata": {},
   "outputs": [
    {
     "data": {
      "image/svg+xml": [
       "<svg xmlns=\"http://www.w3.org/2000/svg\" xmlns:xlink=\"http://www.w3.org/1999/xlink\" width=\"280pt\" height=\"188pt\" viewBox=\"0.00 0.00 280.00 188.00\">\n",
       "<g id=\"graph0\" class=\"graph\" transform=\"scale(1 1) rotate(0) translate(4 184)\">\n",
       "<title>G</title>\n",
       "<polygon fill=\"lightyellow\" stroke=\"transparent\" points=\"-4,4 -4,-184 276,-184 276,4 -4,4\"/>\n",
       "<!-- Add(Pow(Symbol(&#39;x&#39;), Integer(2)), Mul(Symbol(&#39;x&#39;), Symbol(&#39;y&#39;)))_() -->\n",
       "<g id=\"node1\" class=\"node\">\n",
       "<title>Add(Pow(Symbol('x'), Integer(2)), Mul(Symbol('x'), Symbol('y')))_()</title>\n",
       "<ellipse fill=\"none\" stroke=\"black\" cx=\"136\" cy=\"-162\" rx=\"28.7\" ry=\"18\"/>\n",
       "<text text-anchor=\"middle\" x=\"136\" y=\"-158.3\" font-family=\"Times,serif\" font-size=\"14.00\">Add</text>\n",
       "</g>\n",
       "<!-- Pow(Symbol(&#39;x&#39;), Integer(2))_(0,) -->\n",
       "<g id=\"node2\" class=\"node\">\n",
       "<title>Pow(Symbol('x'), Integer(2))_(0,)</title>\n",
       "<ellipse fill=\"none\" stroke=\"black\" cx=\"98\" cy=\"-90\" rx=\"29.8\" ry=\"18\"/>\n",
       "<text text-anchor=\"middle\" x=\"98\" y=\"-86.3\" font-family=\"Times,serif\" font-size=\"14.00\">Pow</text>\n",
       "</g>\n",
       "<!-- Add(Pow(Symbol(&#39;x&#39;), Integer(2)), Mul(Symbol(&#39;x&#39;), Symbol(&#39;y&#39;)))_()&#45;&gt;Pow(Symbol(&#39;x&#39;), Integer(2))_(0,) -->\n",
       "<g id=\"edge1\" class=\"edge\">\n",
       "<title>Add(Pow(Symbol('x'), Integer(2)), Mul(Symbol('x'), Symbol('y')))_()-&gt;Pow(Symbol('x'), Integer(2))_(0,)</title>\n",
       "<path fill=\"none\" stroke=\"black\" d=\"M127.19,-144.76C122.65,-136.4 117.01,-126.02 111.9,-116.61\"/>\n",
       "<polygon fill=\"black\" stroke=\"black\" points=\"114.88,-114.75 107.03,-107.63 108.72,-118.09 114.88,-114.75\"/>\n",
       "</g>\n",
       "<!-- Mul(Symbol(&#39;x&#39;), Symbol(&#39;y&#39;))_(1,) -->\n",
       "<g id=\"node5\" class=\"node\">\n",
       "<title>Mul(Symbol('x'), Symbol('y'))_(1,)</title>\n",
       "<ellipse fill=\"none\" stroke=\"black\" cx=\"174\" cy=\"-90\" rx=\"28.7\" ry=\"18\"/>\n",
       "<text text-anchor=\"middle\" x=\"174\" y=\"-86.3\" font-family=\"Times,serif\" font-size=\"14.00\">Mul</text>\n",
       "</g>\n",
       "<!-- Add(Pow(Symbol(&#39;x&#39;), Integer(2)), Mul(Symbol(&#39;x&#39;), Symbol(&#39;y&#39;)))_()&#45;&gt;Mul(Symbol(&#39;x&#39;), Symbol(&#39;y&#39;))_(1,) -->\n",
       "<g id=\"edge2\" class=\"edge\">\n",
       "<title>Add(Pow(Symbol('x'), Integer(2)), Mul(Symbol('x'), Symbol('y')))_()-&gt;Mul(Symbol('x'), Symbol('y'))_(1,)</title>\n",
       "<path fill=\"none\" stroke=\"black\" d=\"M144.81,-144.76C149.42,-136.28 155.16,-125.71 160.32,-116.2\"/>\n",
       "<polygon fill=\"black\" stroke=\"black\" points=\"163.54,-117.61 165.23,-107.15 157.39,-114.27 163.54,-117.61\"/>\n",
       "</g>\n",
       "<!-- Symbol(&#39;x&#39;)_(0, 0) -->\n",
       "<g id=\"node3\" class=\"node\">\n",
       "<title>Symbol('x')_(0, 0)</title>\n",
       "<ellipse fill=\"none\" stroke=\"black\" cx=\"27\" cy=\"-18\" rx=\"27\" ry=\"18\"/>\n",
       "<text text-anchor=\"middle\" x=\"27\" y=\"-14.3\" font-family=\"Times,serif\" font-size=\"14.00\">x</text>\n",
       "</g>\n",
       "<!-- Pow(Symbol(&#39;x&#39;), Integer(2))_(0,)&#45;&gt;Symbol(&#39;x&#39;)_(0, 0) -->\n",
       "<g id=\"edge3\" class=\"edge\">\n",
       "<title>Pow(Symbol('x'), Integer(2))_(0,)-&gt;Symbol('x')_(0, 0)</title>\n",
       "<path fill=\"none\" stroke=\"black\" d=\"M82.94,-74.15C73.02,-64.37 59.87,-51.4 48.81,-40.5\"/>\n",
       "<polygon fill=\"black\" stroke=\"black\" points=\"51.13,-37.87 41.55,-33.35 46.21,-42.86 51.13,-37.87\"/>\n",
       "</g>\n",
       "<!-- Integer(2)_(0, 1) -->\n",
       "<g id=\"node4\" class=\"node\">\n",
       "<title>Integer(2)_(0, 1)</title>\n",
       "<ellipse fill=\"none\" stroke=\"black\" cx=\"99\" cy=\"-18\" rx=\"27\" ry=\"18\"/>\n",
       "<text text-anchor=\"middle\" x=\"99\" y=\"-14.3\" font-family=\"Times,serif\" font-size=\"14.00\">2</text>\n",
       "</g>\n",
       "<!-- Pow(Symbol(&#39;x&#39;), Integer(2))_(0,)&#45;&gt;Integer(2)_(0, 1) -->\n",
       "<g id=\"edge4\" class=\"edge\">\n",
       "<title>Pow(Symbol('x'), Integer(2))_(0,)-&gt;Integer(2)_(0, 1)</title>\n",
       "<path fill=\"none\" stroke=\"black\" d=\"M98.25,-71.7C98.36,-63.98 98.49,-54.71 98.61,-46.11\"/>\n",
       "<polygon fill=\"black\" stroke=\"black\" points=\"102.11,-46.15 98.76,-36.1 95.11,-46.05 102.11,-46.15\"/>\n",
       "</g>\n",
       "<!-- Symbol(&#39;x&#39;)_(1, 0) -->\n",
       "<g id=\"node6\" class=\"node\">\n",
       "<title>Symbol('x')_(1, 0)</title>\n",
       "<ellipse fill=\"none\" stroke=\"black\" cx=\"173\" cy=\"-18\" rx=\"27\" ry=\"18\"/>\n",
       "<text text-anchor=\"middle\" x=\"173\" y=\"-14.3\" font-family=\"Times,serif\" font-size=\"14.00\">x</text>\n",
       "</g>\n",
       "<!-- Mul(Symbol(&#39;x&#39;), Symbol(&#39;y&#39;))_(1,)&#45;&gt;Symbol(&#39;x&#39;)_(1, 0) -->\n",
       "<g id=\"edge5\" class=\"edge\">\n",
       "<title>Mul(Symbol('x'), Symbol('y'))_(1,)-&gt;Symbol('x')_(1, 0)</title>\n",
       "<path fill=\"none\" stroke=\"black\" d=\"M173.75,-71.7C173.64,-63.98 173.51,-54.71 173.39,-46.11\"/>\n",
       "<polygon fill=\"black\" stroke=\"black\" points=\"176.89,-46.05 173.24,-36.1 169.89,-46.15 176.89,-46.05\"/>\n",
       "</g>\n",
       "<!-- Symbol(&#39;y&#39;)_(1, 1) -->\n",
       "<g id=\"node7\" class=\"node\">\n",
       "<title>Symbol('y')_(1, 1)</title>\n",
       "<ellipse fill=\"none\" stroke=\"black\" cx=\"245\" cy=\"-18\" rx=\"27\" ry=\"18\"/>\n",
       "<text text-anchor=\"middle\" x=\"245\" y=\"-14.3\" font-family=\"Times,serif\" font-size=\"14.00\">y</text>\n",
       "</g>\n",
       "<!-- Mul(Symbol(&#39;x&#39;), Symbol(&#39;y&#39;))_(1,)&#45;&gt;Symbol(&#39;y&#39;)_(1, 1) -->\n",
       "<g id=\"edge6\" class=\"edge\">\n",
       "<title>Mul(Symbol('x'), Symbol('y'))_(1,)-&gt;Symbol('y')_(1, 1)</title>\n",
       "<path fill=\"none\" stroke=\"black\" d=\"M188.71,-74.5C198.61,-64.73 211.84,-51.69 222.99,-40.7\"/>\n",
       "<polygon fill=\"black\" stroke=\"black\" points=\"225.64,-43 230.31,-33.49 220.73,-38.01 225.64,-43\"/>\n",
       "</g>\n",
       "</g>\n",
       "</svg>"
      ],
      "text/plain": [
       "<IPython.core.display.SVG object>"
      ]
     },
     "execution_count": 3,
     "metadata": {
      "filenames": {
       "image/svg+xml": "/home/runner/work/mathematics/mathematics/docs/_build/jupyter_execute/sympy/a6-manipulation_4_0.svg"
      }
     },
     "output_type": "execute_result"
    }
   ],
   "source": [
    "display_dot(expr)"
   ]
  },
  {
   "cell_type": "markdown",
   "id": "638a3e23",
   "metadata": {},
   "source": [
    "```{note}\n",
    "上图是使用 [Graphviz](http://www.graphviz.org/) 和 [`dotprint`](https://docs.sympy.org/latest/modules/printing.html#sympy.printing.dot.dotprint \"sympy.printing.dot.dotprint\") 函数制作的。\n",
    "```"
   ]
  },
  {
   "cell_type": "markdown",
   "id": "9e617d27",
   "metadata": {},
   "source": [
    "首先，让我们看看这棵树的叶子。符号是类 `Symbol` 的实例。虽然我们一直在做"
   ]
  },
  {
   "cell_type": "code",
   "execution_count": 4,
   "id": "32b080bd",
   "metadata": {},
   "outputs": [],
   "source": [
    "x = symbols('x')"
   ]
  },
  {
   "cell_type": "markdown",
   "id": "38ee227a",
   "metadata": {},
   "source": [
    "我们也可以做到"
   ]
  },
  {
   "cell_type": "code",
   "execution_count": 5,
   "id": "aca4614d",
   "metadata": {},
   "outputs": [],
   "source": [
    "x = Symbol('x')"
   ]
  },
  {
   "cell_type": "markdown",
   "id": "b5a036a2",
   "metadata": {},
   "source": [
    "无论哪种方式，我们都会得到一个名为“x”的 Symbol。对于表达式中的数字 2，我们得到了 `Integer(2)`。`Integer` 是整数的 SymPy 类。它类似于 Python 的内置类型 `int`，不同之处在于 `Integer` 可以很好地与其他 SymPy 类型一起使用。\n",
    "\n",
    "当我们写 `x**2` 时，这会创建一个 `Pow` 对象。`Pow` 是“power”的缩写。"
   ]
  },
  {
   "cell_type": "code",
   "execution_count": 6,
   "id": "317488e1",
   "metadata": {},
   "outputs": [
    {
     "data": {
      "text/plain": [
       "\"Pow(Symbol('x'), Integer(2))\""
      ]
     },
     "execution_count": 6,
     "metadata": {},
     "output_type": "execute_result"
    }
   ],
   "source": [
    "srepr(x**2)"
   ]
  },
  {
   "cell_type": "code",
   "execution_count": 7,
   "id": "acfd60a1",
   "metadata": {},
   "outputs": [
    {
     "data": {
      "image/svg+xml": [
       "<svg xmlns=\"http://www.w3.org/2000/svg\" xmlns:xlink=\"http://www.w3.org/1999/xlink\" width=\"134pt\" height=\"116pt\" viewBox=\"0.00 0.00 134.00 116.00\">\n",
       "<g id=\"graph0\" class=\"graph\" transform=\"scale(1 1) rotate(0) translate(4 112)\">\n",
       "<title>G</title>\n",
       "<polygon fill=\"lightyellow\" stroke=\"transparent\" points=\"-4,4 -4,-112 130,-112 130,4 -4,4\"/>\n",
       "<!-- Pow(Symbol(&#39;x&#39;), Integer(2))_() -->\n",
       "<g id=\"node1\" class=\"node\">\n",
       "<title>Pow(Symbol('x'), Integer(2))_()</title>\n",
       "<ellipse fill=\"none\" stroke=\"black\" cx=\"63\" cy=\"-90\" rx=\"29.8\" ry=\"18\"/>\n",
       "<text text-anchor=\"middle\" x=\"63\" y=\"-86.3\" font-family=\"Times,serif\" font-size=\"14.00\">Pow</text>\n",
       "</g>\n",
       "<!-- Symbol(&#39;x&#39;)_(0,) -->\n",
       "<g id=\"node2\" class=\"node\">\n",
       "<title>Symbol('x')_(0,)</title>\n",
       "<ellipse fill=\"none\" stroke=\"black\" cx=\"27\" cy=\"-18\" rx=\"27\" ry=\"18\"/>\n",
       "<text text-anchor=\"middle\" x=\"27\" y=\"-14.3\" font-family=\"Times,serif\" font-size=\"14.00\">x</text>\n",
       "</g>\n",
       "<!-- Pow(Symbol(&#39;x&#39;), Integer(2))_()&#45;&gt;Symbol(&#39;x&#39;)_(0,) -->\n",
       "<g id=\"edge1\" class=\"edge\">\n",
       "<title>Pow(Symbol('x'), Integer(2))_()-&gt;Symbol('x')_(0,)</title>\n",
       "<path fill=\"none\" stroke=\"black\" d=\"M54.47,-72.41C50.16,-64.04 44.85,-53.71 40.05,-44.37\"/>\n",
       "<polygon fill=\"black\" stroke=\"black\" points=\"43.16,-42.76 35.47,-35.47 36.93,-45.96 43.16,-42.76\"/>\n",
       "</g>\n",
       "<!-- Integer(2)_(1,) -->\n",
       "<g id=\"node3\" class=\"node\">\n",
       "<title>Integer(2)_(1,)</title>\n",
       "<ellipse fill=\"none\" stroke=\"black\" cx=\"99\" cy=\"-18\" rx=\"27\" ry=\"18\"/>\n",
       "<text text-anchor=\"middle\" x=\"99\" y=\"-14.3\" font-family=\"Times,serif\" font-size=\"14.00\">2</text>\n",
       "</g>\n",
       "<!-- Pow(Symbol(&#39;x&#39;), Integer(2))_()&#45;&gt;Integer(2)_(1,) -->\n",
       "<g id=\"edge2\" class=\"edge\">\n",
       "<title>Pow(Symbol('x'), Integer(2))_()-&gt;Integer(2)_(1,)</title>\n",
       "<path fill=\"none\" stroke=\"black\" d=\"M71.53,-72.41C75.84,-64.04 81.15,-53.71 85.95,-44.37\"/>\n",
       "<polygon fill=\"black\" stroke=\"black\" points=\"89.07,-45.96 90.53,-35.47 82.84,-42.76 89.07,-45.96\"/>\n",
       "</g>\n",
       "</g>\n",
       "</svg>"
      ],
      "text/plain": [
       "<IPython.core.display.SVG object>"
      ]
     },
     "execution_count": 7,
     "metadata": {
      "filenames": {
       "image/svg+xml": "/home/runner/work/mathematics/mathematics/docs/_build/jupyter_execute/sympy/a6-manipulation_12_0.svg"
      }
     },
     "output_type": "execute_result"
    }
   ],
   "source": [
    "display_dot(x**2)"
   ]
  },
  {
   "cell_type": "markdown",
   "id": "fb248cf3",
   "metadata": {},
   "source": [
    "我们可以通过调用 `Pow(x, 2)` 创建相同的对象"
   ]
  },
  {
   "cell_type": "code",
   "execution_count": 8,
   "id": "a932a443",
   "metadata": {},
   "outputs": [
    {
     "data": {
      "text/latex": [
       "$\\displaystyle x^{2}$"
      ],
      "text/plain": [
       "x**2"
      ]
     },
     "execution_count": 8,
     "metadata": {},
     "output_type": "execute_result"
    }
   ],
   "source": [
    "Pow(x, 2)"
   ]
  },
  {
   "cell_type": "markdown",
   "id": "60d79a90",
   "metadata": {},
   "source": [
    "其他的运算以此类推："
   ]
  },
  {
   "cell_type": "code",
   "execution_count": 9,
   "id": "e783bd91",
   "metadata": {},
   "outputs": [
    {
     "data": {
      "text/latex": [
       "$\\displaystyle - x^{2} + \\frac{\\sin{\\left(x y \\right)}}{2} + \\frac{1}{y}$"
      ],
      "text/plain": [
       "-x**2 + sin(x*y)/2 + 1/y"
      ]
     },
     "execution_count": 9,
     "metadata": {},
     "output_type": "execute_result"
    }
   ],
   "source": [
    "expr = sin(x*y)/2 - x**2 + 1/y\n",
    "expr"
   ]
  },
  {
   "cell_type": "code",
   "execution_count": 10,
   "id": "411dfa49",
   "metadata": {},
   "outputs": [
    {
     "data": {
      "text/plain": [
       "\"Add(Mul(Integer(-1), Pow(Symbol('x'), Integer(2))), Mul(Rational(1, 2), sin(Mul(Symbol('x'), Symbol('y')))), Pow(Symbol('y'), Integer(-1)))\""
      ]
     },
     "execution_count": 10,
     "metadata": {},
     "output_type": "execute_result"
    }
   ],
   "source": [
    "srepr(expr)"
   ]
  },
  {
   "cell_type": "code",
   "execution_count": 11,
   "id": "7a671666",
   "metadata": {},
   "outputs": [
    {
     "data": {
      "image/svg+xml": [
       "<svg xmlns=\"http://www.w3.org/2000/svg\" xmlns:xlink=\"http://www.w3.org/1999/xlink\" width=\"461pt\" height=\"332pt\" viewBox=\"0.00 0.00 461.00 332.00\">\n",
       "<g id=\"graph0\" class=\"graph\" transform=\"scale(1 1) rotate(0) translate(4 328)\">\n",
       "<title>G</title>\n",
       "<polygon fill=\"lightyellow\" stroke=\"transparent\" points=\"-4,4 -4,-328 457,-328 457,4 -4,4\"/>\n",
       "<!-- Add(Pow(Symbol(&#39;y&#39;), Integer(&#45;1)), Mul(Rational(1, 2), sin(Mul(Symbol(&#39;x&#39;), Symbol(&#39;y&#39;)))), Mul(Integer(&#45;1), Pow(Symbol(&#39;x&#39;), Integer(2))))_() -->\n",
       "<g id=\"node1\" class=\"node\">\n",
       "<title>Add(Pow(Symbol('y'), Integer(-1)), Mul(Rational(1, 2), sin(Mul(Symbol('x'), Symbol('y')))), Mul(Integer(-1), Pow(Symbol('x'), Integer(2))))_()</title>\n",
       "<ellipse fill=\"none\" stroke=\"black\" cx=\"208\" cy=\"-306\" rx=\"28.7\" ry=\"18\"/>\n",
       "<text text-anchor=\"middle\" x=\"208\" y=\"-302.3\" font-family=\"Times,serif\" font-size=\"14.00\">Add</text>\n",
       "</g>\n",
       "<!-- Pow(Symbol(&#39;y&#39;), Integer(&#45;1))_(0,) -->\n",
       "<g id=\"node2\" class=\"node\">\n",
       "<title>Pow(Symbol('y'), Integer(-1))_(0,)</title>\n",
       "<ellipse fill=\"none\" stroke=\"black\" cx=\"99\" cy=\"-234\" rx=\"29.8\" ry=\"18\"/>\n",
       "<text text-anchor=\"middle\" x=\"99\" y=\"-230.3\" font-family=\"Times,serif\" font-size=\"14.00\">Pow</text>\n",
       "</g>\n",
       "<!-- Add(Pow(Symbol(&#39;y&#39;), Integer(&#45;1)), Mul(Rational(1, 2), sin(Mul(Symbol(&#39;x&#39;), Symbol(&#39;y&#39;)))), Mul(Integer(&#45;1), Pow(Symbol(&#39;x&#39;), Integer(2))))_()&#45;&gt;Pow(Symbol(&#39;y&#39;), Integer(&#45;1))_(0,) -->\n",
       "<g id=\"edge1\" class=\"edge\">\n",
       "<title>Add(Pow(Symbol('y'), Integer(-1)), Mul(Rational(1, 2), sin(Mul(Symbol('x'), Symbol('y')))), Mul(Integer(-1), Pow(Symbol('x'), Integer(2))))_()-&gt;Pow(Symbol('y'), Integer(-1))_(0,)</title>\n",
       "<path fill=\"none\" stroke=\"black\" d=\"M188.76,-292.65C171.7,-281.69 146.55,-265.54 127.21,-253.11\"/>\n",
       "<polygon fill=\"black\" stroke=\"black\" points=\"129.09,-250.16 118.78,-247.7 125.3,-256.05 129.09,-250.16\"/>\n",
       "</g>\n",
       "<!-- Mul(Rational(1, 2), sin(Mul(Symbol(&#39;x&#39;), Symbol(&#39;y&#39;))))_(1,) -->\n",
       "<g id=\"node5\" class=\"node\">\n",
       "<title>Mul(Rational(1, 2), sin(Mul(Symbol('x'), Symbol('y'))))_(1,)</title>\n",
       "<ellipse fill=\"none\" stroke=\"black\" cx=\"208\" cy=\"-234\" rx=\"28.7\" ry=\"18\"/>\n",
       "<text text-anchor=\"middle\" x=\"208\" y=\"-230.3\" font-family=\"Times,serif\" font-size=\"14.00\">Mul</text>\n",
       "</g>\n",
       "<!-- Add(Pow(Symbol(&#39;y&#39;), Integer(&#45;1)), Mul(Rational(1, 2), sin(Mul(Symbol(&#39;x&#39;), Symbol(&#39;y&#39;)))), Mul(Integer(&#45;1), Pow(Symbol(&#39;x&#39;), Integer(2))))_()&#45;&gt;Mul(Rational(1, 2), sin(Mul(Symbol(&#39;x&#39;), Symbol(&#39;y&#39;))))_(1,) -->\n",
       "<g id=\"edge2\" class=\"edge\">\n",
       "<title>Add(Pow(Symbol('y'), Integer(-1)), Mul(Rational(1, 2), sin(Mul(Symbol('x'), Symbol('y')))), Mul(Integer(-1), Pow(Symbol('x'), Integer(2))))_()-&gt;Mul(Rational(1, 2), sin(Mul(Symbol('x'), Symbol('y'))))_(1,)</title>\n",
       "<path fill=\"none\" stroke=\"black\" d=\"M208,-287.7C208,-279.98 208,-270.71 208,-262.11\"/>\n",
       "<polygon fill=\"black\" stroke=\"black\" points=\"211.5,-262.1 208,-252.1 204.5,-262.1 211.5,-262.1\"/>\n",
       "</g>\n",
       "<!-- Mul(Integer(&#45;1), Pow(Symbol(&#39;x&#39;), Integer(2)))_(2,) -->\n",
       "<g id=\"node11\" class=\"node\">\n",
       "<title>Mul(Integer(-1), Pow(Symbol('x'), Integer(2)))_(2,)</title>\n",
       "<ellipse fill=\"none\" stroke=\"black\" cx=\"315\" cy=\"-234\" rx=\"28.7\" ry=\"18\"/>\n",
       "<text text-anchor=\"middle\" x=\"315\" y=\"-230.3\" font-family=\"Times,serif\" font-size=\"14.00\">Mul</text>\n",
       "</g>\n",
       "<!-- Add(Pow(Symbol(&#39;y&#39;), Integer(&#45;1)), Mul(Rational(1, 2), sin(Mul(Symbol(&#39;x&#39;), Symbol(&#39;y&#39;)))), Mul(Integer(&#45;1), Pow(Symbol(&#39;x&#39;), Integer(2))))_()&#45;&gt;Mul(Integer(&#45;1), Pow(Symbol(&#39;x&#39;), Integer(2)))_(2,) -->\n",
       "<g id=\"edge3\" class=\"edge\">\n",
       "<title>Add(Pow(Symbol('y'), Integer(-1)), Mul(Rational(1, 2), sin(Mul(Symbol('x'), Symbol('y')))), Mul(Integer(-1), Pow(Symbol('x'), Integer(2))))_()-&gt;Mul(Integer(-1), Pow(Symbol('x'), Integer(2)))_(2,)</title>\n",
       "<path fill=\"none\" stroke=\"black\" d=\"M227.13,-292.49C243.84,-281.55 268.31,-265.55 287.18,-253.2\"/>\n",
       "<polygon fill=\"black\" stroke=\"black\" points=\"289.22,-256.05 295.68,-247.64 285.39,-250.19 289.22,-256.05\"/>\n",
       "</g>\n",
       "<!-- Symbol(&#39;y&#39;)_(0, 0) -->\n",
       "<g id=\"node3\" class=\"node\">\n",
       "<title>Symbol('y')_(0, 0)</title>\n",
       "<ellipse fill=\"none\" stroke=\"black\" cx=\"27\" cy=\"-162\" rx=\"27\" ry=\"18\"/>\n",
       "<text text-anchor=\"middle\" x=\"27\" y=\"-158.3\" font-family=\"Times,serif\" font-size=\"14.00\">y</text>\n",
       "</g>\n",
       "<!-- Pow(Symbol(&#39;y&#39;), Integer(&#45;1))_(0,)&#45;&gt;Symbol(&#39;y&#39;)_(0, 0) -->\n",
       "<g id=\"edge4\" class=\"edge\">\n",
       "<title>Pow(Symbol('y'), Integer(-1))_(0,)-&gt;Symbol('y')_(0, 0)</title>\n",
       "<path fill=\"none\" stroke=\"black\" d=\"M83.73,-218.15C73.67,-208.37 60.33,-195.4 49.11,-184.5\"/>\n",
       "<polygon fill=\"black\" stroke=\"black\" points=\"51.36,-181.81 41.75,-177.35 46.49,-186.83 51.36,-181.81\"/>\n",
       "</g>\n",
       "<!-- Integer(&#45;1)_(0, 1) -->\n",
       "<g id=\"node4\" class=\"node\">\n",
       "<title>Integer(-1)_(0, 1)</title>\n",
       "<ellipse fill=\"none\" stroke=\"black\" cx=\"99\" cy=\"-162\" rx=\"27\" ry=\"18\"/>\n",
       "<text text-anchor=\"middle\" x=\"99\" y=\"-158.3\" font-family=\"Times,serif\" font-size=\"14.00\">-1</text>\n",
       "</g>\n",
       "<!-- Pow(Symbol(&#39;y&#39;), Integer(&#45;1))_(0,)&#45;&gt;Integer(&#45;1)_(0, 1) -->\n",
       "<g id=\"edge5\" class=\"edge\">\n",
       "<title>Pow(Symbol('y'), Integer(-1))_(0,)-&gt;Integer(-1)_(0, 1)</title>\n",
       "<path fill=\"none\" stroke=\"black\" d=\"M99,-215.7C99,-207.98 99,-198.71 99,-190.11\"/>\n",
       "<polygon fill=\"black\" stroke=\"black\" points=\"102.5,-190.1 99,-180.1 95.5,-190.1 102.5,-190.1\"/>\n",
       "</g>\n",
       "<!-- Rational(1, 2)_(1, 0) -->\n",
       "<g id=\"node6\" class=\"node\">\n",
       "<title>Rational(1, 2)_(1, 0)</title>\n",
       "<ellipse fill=\"none\" stroke=\"black\" cx=\"171\" cy=\"-162\" rx=\"27\" ry=\"18\"/>\n",
       "<text text-anchor=\"middle\" x=\"171\" y=\"-158.3\" font-family=\"Times,serif\" font-size=\"14.00\">1/2</text>\n",
       "</g>\n",
       "<!-- Mul(Rational(1, 2), sin(Mul(Symbol(&#39;x&#39;), Symbol(&#39;y&#39;))))_(1,)&#45;&gt;Rational(1, 2)_(1, 0) -->\n",
       "<g id=\"edge6\" class=\"edge\">\n",
       "<title>Mul(Rational(1, 2), sin(Mul(Symbol('x'), Symbol('y'))))_(1,)-&gt;Rational(1, 2)_(1, 0)</title>\n",
       "<path fill=\"none\" stroke=\"black\" d=\"M199.42,-216.76C194.94,-208.28 189.35,-197.71 184.32,-188.2\"/>\n",
       "<polygon fill=\"black\" stroke=\"black\" points=\"187.3,-186.35 179.54,-179.15 181.11,-189.62 187.3,-186.35\"/>\n",
       "</g>\n",
       "<!-- sin(Mul(Symbol(&#39;x&#39;), Symbol(&#39;y&#39;)))_(1, 1) -->\n",
       "<g id=\"node7\" class=\"node\">\n",
       "<title>sin(Mul(Symbol('x'), Symbol('y')))_(1, 1)</title>\n",
       "<ellipse fill=\"none\" stroke=\"black\" cx=\"243\" cy=\"-162\" rx=\"27\" ry=\"18\"/>\n",
       "<text text-anchor=\"middle\" x=\"243\" y=\"-158.3\" font-family=\"Times,serif\" font-size=\"14.00\">sin</text>\n",
       "</g>\n",
       "<!-- Mul(Rational(1, 2), sin(Mul(Symbol(&#39;x&#39;), Symbol(&#39;y&#39;))))_(1,)&#45;&gt;sin(Mul(Symbol(&#39;x&#39;), Symbol(&#39;y&#39;)))_(1, 1) -->\n",
       "<g id=\"edge7\" class=\"edge\">\n",
       "<title>Mul(Rational(1, 2), sin(Mul(Symbol('x'), Symbol('y'))))_(1,)-&gt;sin(Mul(Symbol('x'), Symbol('y')))_(1, 1)</title>\n",
       "<path fill=\"none\" stroke=\"black\" d=\"M216.29,-216.41C220.44,-208.13 225.54,-197.92 230.17,-188.66\"/>\n",
       "<polygon fill=\"black\" stroke=\"black\" points=\"233.42,-189.98 234.77,-179.47 227.16,-186.85 233.42,-189.98\"/>\n",
       "</g>\n",
       "<!-- Mul(Symbol(&#39;x&#39;), Symbol(&#39;y&#39;))_(1, 1, 0) -->\n",
       "<g id=\"node8\" class=\"node\">\n",
       "<title>Mul(Symbol('x'), Symbol('y'))_(1, 1, 0)</title>\n",
       "<ellipse fill=\"none\" stroke=\"black\" cx=\"243\" cy=\"-90\" rx=\"28.7\" ry=\"18\"/>\n",
       "<text text-anchor=\"middle\" x=\"243\" y=\"-86.3\" font-family=\"Times,serif\" font-size=\"14.00\">Mul</text>\n",
       "</g>\n",
       "<!-- sin(Mul(Symbol(&#39;x&#39;), Symbol(&#39;y&#39;)))_(1, 1)&#45;&gt;Mul(Symbol(&#39;x&#39;), Symbol(&#39;y&#39;))_(1, 1, 0) -->\n",
       "<g id=\"edge8\" class=\"edge\">\n",
       "<title>sin(Mul(Symbol('x'), Symbol('y')))_(1, 1)-&gt;Mul(Symbol('x'), Symbol('y'))_(1, 1, 0)</title>\n",
       "<path fill=\"none\" stroke=\"black\" d=\"M243,-143.7C243,-135.98 243,-126.71 243,-118.11\"/>\n",
       "<polygon fill=\"black\" stroke=\"black\" points=\"246.5,-118.1 243,-108.1 239.5,-118.1 246.5,-118.1\"/>\n",
       "</g>\n",
       "<!-- Symbol(&#39;x&#39;)_(1, 1, 0, 0) -->\n",
       "<g id=\"node9\" class=\"node\">\n",
       "<title>Symbol('x')_(1, 1, 0, 0)</title>\n",
       "<ellipse fill=\"none\" stroke=\"black\" cx=\"207\" cy=\"-18\" rx=\"27\" ry=\"18\"/>\n",
       "<text text-anchor=\"middle\" x=\"207\" y=\"-14.3\" font-family=\"Times,serif\" font-size=\"14.00\">x</text>\n",
       "</g>\n",
       "<!-- Mul(Symbol(&#39;x&#39;), Symbol(&#39;y&#39;))_(1, 1, 0)&#45;&gt;Symbol(&#39;x&#39;)_(1, 1, 0, 0) -->\n",
       "<g id=\"edge9\" class=\"edge\">\n",
       "<title>Mul(Symbol('x'), Symbol('y'))_(1, 1, 0)-&gt;Symbol('x')_(1, 1, 0, 0)</title>\n",
       "<path fill=\"none\" stroke=\"black\" d=\"M234.65,-72.76C230.29,-64.28 224.85,-53.71 219.96,-44.2\"/>\n",
       "<polygon fill=\"black\" stroke=\"black\" points=\"222.99,-42.44 215.3,-35.15 216.77,-45.64 222.99,-42.44\"/>\n",
       "</g>\n",
       "<!-- Symbol(&#39;y&#39;)_(1, 1, 0, 1) -->\n",
       "<g id=\"node10\" class=\"node\">\n",
       "<title>Symbol('y')_(1, 1, 0, 1)</title>\n",
       "<ellipse fill=\"none\" stroke=\"black\" cx=\"279\" cy=\"-18\" rx=\"27\" ry=\"18\"/>\n",
       "<text text-anchor=\"middle\" x=\"279\" y=\"-14.3\" font-family=\"Times,serif\" font-size=\"14.00\">y</text>\n",
       "</g>\n",
       "<!-- Mul(Symbol(&#39;x&#39;), Symbol(&#39;y&#39;))_(1, 1, 0)&#45;&gt;Symbol(&#39;y&#39;)_(1, 1, 0, 1) -->\n",
       "<g id=\"edge10\" class=\"edge\">\n",
       "<title>Mul(Symbol('x'), Symbol('y'))_(1, 1, 0)-&gt;Symbol('y')_(1, 1, 0, 1)</title>\n",
       "<path fill=\"none\" stroke=\"black\" d=\"M251.35,-72.76C255.71,-64.28 261.15,-53.71 266.04,-44.2\"/>\n",
       "<polygon fill=\"black\" stroke=\"black\" points=\"269.23,-45.64 270.7,-35.15 263.01,-42.44 269.23,-45.64\"/>\n",
       "</g>\n",
       "<!-- Integer(&#45;1)_(2, 0) -->\n",
       "<g id=\"node12\" class=\"node\">\n",
       "<title>Integer(-1)_(2, 0)</title>\n",
       "<ellipse fill=\"none\" stroke=\"black\" cx=\"315\" cy=\"-162\" rx=\"27\" ry=\"18\"/>\n",
       "<text text-anchor=\"middle\" x=\"315\" y=\"-158.3\" font-family=\"Times,serif\" font-size=\"14.00\">-1</text>\n",
       "</g>\n",
       "<!-- Mul(Integer(&#45;1), Pow(Symbol(&#39;x&#39;), Integer(2)))_(2,)&#45;&gt;Integer(&#45;1)_(2, 0) -->\n",
       "<g id=\"edge11\" class=\"edge\">\n",
       "<title>Mul(Integer(-1), Pow(Symbol('x'), Integer(2)))_(2,)-&gt;Integer(-1)_(2, 0)</title>\n",
       "<path fill=\"none\" stroke=\"black\" d=\"M315,-215.7C315,-207.98 315,-198.71 315,-190.11\"/>\n",
       "<polygon fill=\"black\" stroke=\"black\" points=\"318.5,-190.1 315,-180.1 311.5,-190.1 318.5,-190.1\"/>\n",
       "</g>\n",
       "<!-- Pow(Symbol(&#39;x&#39;), Integer(2))_(2, 1) -->\n",
       "<g id=\"node13\" class=\"node\">\n",
       "<title>Pow(Symbol('x'), Integer(2))_(2, 1)</title>\n",
       "<ellipse fill=\"none\" stroke=\"black\" cx=\"390\" cy=\"-162\" rx=\"29.8\" ry=\"18\"/>\n",
       "<text text-anchor=\"middle\" x=\"390\" y=\"-158.3\" font-family=\"Times,serif\" font-size=\"14.00\">Pow</text>\n",
       "</g>\n",
       "<!-- Mul(Integer(&#45;1), Pow(Symbol(&#39;x&#39;), Integer(2)))_(2,)&#45;&gt;Pow(Symbol(&#39;x&#39;), Integer(2))_(2, 1) -->\n",
       "<g id=\"edge12\" class=\"edge\">\n",
       "<title>Mul(Integer(-1), Pow(Symbol('x'), Integer(2)))_(2,)-&gt;Pow(Symbol('x'), Integer(2))_(2, 1)</title>\n",
       "<path fill=\"none\" stroke=\"black\" d=\"M330.54,-218.5C341.1,-208.64 355.24,-195.44 367.09,-184.38\"/>\n",
       "<polygon fill=\"black\" stroke=\"black\" points=\"369.56,-186.87 374.48,-177.49 364.78,-181.75 369.56,-186.87\"/>\n",
       "</g>\n",
       "<!-- Symbol(&#39;x&#39;)_(2, 1, 0) -->\n",
       "<g id=\"node14\" class=\"node\">\n",
       "<title>Symbol('x')_(2, 1, 0)</title>\n",
       "<ellipse fill=\"none\" stroke=\"black\" cx=\"354\" cy=\"-90\" rx=\"27\" ry=\"18\"/>\n",
       "<text text-anchor=\"middle\" x=\"354\" y=\"-86.3\" font-family=\"Times,serif\" font-size=\"14.00\">x</text>\n",
       "</g>\n",
       "<!-- Pow(Symbol(&#39;x&#39;), Integer(2))_(2, 1)&#45;&gt;Symbol(&#39;x&#39;)_(2, 1, 0) -->\n",
       "<g id=\"edge13\" class=\"edge\">\n",
       "<title>Pow(Symbol('x'), Integer(2))_(2, 1)-&gt;Symbol('x')_(2, 1, 0)</title>\n",
       "<path fill=\"none\" stroke=\"black\" d=\"M381.47,-144.41C377.16,-136.04 371.85,-125.71 367.05,-116.37\"/>\n",
       "<polygon fill=\"black\" stroke=\"black\" points=\"370.16,-114.76 362.47,-107.47 363.93,-117.96 370.16,-114.76\"/>\n",
       "</g>\n",
       "<!-- Integer(2)_(2, 1, 1) -->\n",
       "<g id=\"node15\" class=\"node\">\n",
       "<title>Integer(2)_(2, 1, 1)</title>\n",
       "<ellipse fill=\"none\" stroke=\"black\" cx=\"426\" cy=\"-90\" rx=\"27\" ry=\"18\"/>\n",
       "<text text-anchor=\"middle\" x=\"426\" y=\"-86.3\" font-family=\"Times,serif\" font-size=\"14.00\">2</text>\n",
       "</g>\n",
       "<!-- Pow(Symbol(&#39;x&#39;), Integer(2))_(2, 1)&#45;&gt;Integer(2)_(2, 1, 1) -->\n",
       "<g id=\"edge14\" class=\"edge\">\n",
       "<title>Pow(Symbol('x'), Integer(2))_(2, 1)-&gt;Integer(2)_(2, 1, 1)</title>\n",
       "<path fill=\"none\" stroke=\"black\" d=\"M398.53,-144.41C402.84,-136.04 408.15,-125.71 412.95,-116.37\"/>\n",
       "<polygon fill=\"black\" stroke=\"black\" points=\"416.07,-117.96 417.53,-107.47 409.84,-114.76 416.07,-117.96\"/>\n",
       "</g>\n",
       "</g>\n",
       "</svg>"
      ],
      "text/plain": [
       "<IPython.core.display.SVG object>"
      ]
     },
     "execution_count": 11,
     "metadata": {
      "filenames": {
       "image/svg+xml": "/home/runner/work/mathematics/mathematics/docs/_build/jupyter_execute/sympy/a6-manipulation_18_0.svg"
      }
     },
     "output_type": "execute_result"
    }
   ],
   "source": [
    "display_dot(expr)"
   ]
  },
  {
   "cell_type": "code",
   "execution_count": null,
   "id": "3314cf8e",
   "metadata": {},
   "outputs": [],
   "source": []
  }
 ],
 "metadata": {
  "jupytext": {
   "formats": "md:myst",
   "text_representation": {
    "extension": ".md",
    "format_name": "myst",
    "format_version": 0.13,
    "jupytext_version": "1.10.3"
   }
  },
  "kernelspec": {
   "display_name": "ai",
   "language": "python",
   "name": "ai"
  },
  "language_info": {
   "codemirror_mode": {
    "name": "ipython",
    "version": 3
   },
   "file_extension": ".py",
   "mimetype": "text/x-python",
   "name": "python",
   "nbconvert_exporter": "python",
   "pygments_lexer": "ipython3",
   "version": "3.8.5"
  },
  "source_map": [
   13,
   25,
   40,
   45,
   49,
   51,
   57,
   61,
   63,
   67,
   69,
   75,
   79,
   81,
   85,
   87,
   91,
   96,
   100,
   104
  ]
 },
 "nbformat": 4,
 "nbformat_minor": 5
}