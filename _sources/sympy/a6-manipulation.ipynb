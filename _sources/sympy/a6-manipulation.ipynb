{
 "cells": [
  {
   "cell_type": "markdown",
   "id": "ff8f01d2",
   "metadata": {},
   "source": [
    "# Advanced Expression Manipulation\n",
    "\n",
    "[Advanced Expression Manipulation — SymPy 1.8 documentation](https://docs.sympy.org/latest/tutorial/manipulation.html)"
   ]
  },
  {
   "cell_type": "code",
   "execution_count": 1,
   "id": "17411a43",
   "metadata": {},
   "outputs": [],
   "source": [
    "import warnings\n",
    "from sympy import *\n",
    "import pydot\n",
    "from IPython.display import SVG\n",
    "\n",
    "warnings.filterwarnings('ignore')\n",
    "init_printing('dot')\n",
    "\n",
    "def display_dot(expr):\n",
    "    g = pydot.graph_from_dot_data(dotprint(expr))[0]\n",
    "    g.set_bgcolor('lightyellow')\n",
    "    t = SVG(g.create_svg())\n",
    "    return t"
   ]
  },
  {
   "cell_type": "code",
   "execution_count": 2,
   "id": "a7aa4bf6",
   "metadata": {},
   "outputs": [
    {
     "data": {
      "image/svg+xml": [
       "<svg xmlns=\"http://www.w3.org/2000/svg\" xmlns:xlink=\"http://www.w3.org/1999/xlink\" width=\"172pt\" height=\"188pt\" viewBox=\"0.00 0.00 172.00 188.00\">\n",
       "<g id=\"graph0\" class=\"graph\" transform=\"scale(1 1) rotate(0) translate(4 184)\">\n",
       "<title>G</title>\n",
       "<polygon fill=\"lightyellow\" stroke=\"transparent\" points=\"-4,4 -4,-184 168,-184 168,4 -4,4\"/>\n",
       "<!-- Add(Symbol(&#39;x&#39;), Mul(Symbol(&#39;x&#39;), Symbol(&#39;y&#39;)))_() -->\n",
       "<g id=\"node1\" class=\"node\">\n",
       "<title>Add(Symbol('x'), Mul(Symbol('x'), Symbol('y')))_()</title>\n",
       "<ellipse fill=\"none\" stroke=\"black\" cx=\"64\" cy=\"-162\" rx=\"28.7\" ry=\"18\"/>\n",
       "<text text-anchor=\"middle\" x=\"64\" y=\"-158.3\" font-family=\"Times,serif\" font-size=\"14.00\">Add</text>\n",
       "</g>\n",
       "<!-- Symbol(&#39;x&#39;)_(0,) -->\n",
       "<g id=\"node2\" class=\"node\">\n",
       "<title>Symbol('x')_(0,)</title>\n",
       "<ellipse fill=\"none\" stroke=\"black\" cx=\"27\" cy=\"-90\" rx=\"27\" ry=\"18\"/>\n",
       "<text text-anchor=\"middle\" x=\"27\" y=\"-86.3\" font-family=\"Times,serif\" font-size=\"14.00\">x</text>\n",
       "</g>\n",
       "<!-- Add(Symbol(&#39;x&#39;), Mul(Symbol(&#39;x&#39;), Symbol(&#39;y&#39;)))_()&#45;&gt;Symbol(&#39;x&#39;)_(0,) -->\n",
       "<g id=\"edge1\" class=\"edge\">\n",
       "<title>Add(Symbol('x'), Mul(Symbol('x'), Symbol('y')))_()-&gt;Symbol('x')_(0,)</title>\n",
       "<path fill=\"none\" stroke=\"black\" d=\"M55.42,-144.76C50.94,-136.28 45.35,-125.71 40.32,-116.2\"/>\n",
       "<polygon fill=\"black\" stroke=\"black\" points=\"43.3,-114.35 35.54,-107.15 37.11,-117.62 43.3,-114.35\"/>\n",
       "</g>\n",
       "<!-- Mul(Symbol(&#39;x&#39;), Symbol(&#39;y&#39;))_(1,) -->\n",
       "<g id=\"node3\" class=\"node\">\n",
       "<title>Mul(Symbol('x'), Symbol('y'))_(1,)</title>\n",
       "<ellipse fill=\"none\" stroke=\"black\" cx=\"101\" cy=\"-90\" rx=\"28.7\" ry=\"18\"/>\n",
       "<text text-anchor=\"middle\" x=\"101\" y=\"-86.3\" font-family=\"Times,serif\" font-size=\"14.00\">Mul</text>\n",
       "</g>\n",
       "<!-- Add(Symbol(&#39;x&#39;), Mul(Symbol(&#39;x&#39;), Symbol(&#39;y&#39;)))_()&#45;&gt;Mul(Symbol(&#39;x&#39;), Symbol(&#39;y&#39;))_(1,) -->\n",
       "<g id=\"edge2\" class=\"edge\">\n",
       "<title>Add(Symbol('x'), Mul(Symbol('x'), Symbol('y')))_()-&gt;Mul(Symbol('x'), Symbol('y'))_(1,)</title>\n",
       "<path fill=\"none\" stroke=\"black\" d=\"M72.58,-144.76C77,-136.4 82.49,-126.02 87.47,-116.61\"/>\n",
       "<polygon fill=\"black\" stroke=\"black\" points=\"90.63,-118.11 92.21,-107.63 84.44,-114.84 90.63,-118.11\"/>\n",
       "</g>\n",
       "<!-- Symbol(&#39;x&#39;)_(1, 0) -->\n",
       "<g id=\"node4\" class=\"node\">\n",
       "<title>Symbol('x')_(1, 0)</title>\n",
       "<ellipse fill=\"none\" stroke=\"black\" cx=\"65\" cy=\"-18\" rx=\"27\" ry=\"18\"/>\n",
       "<text text-anchor=\"middle\" x=\"65\" y=\"-14.3\" font-family=\"Times,serif\" font-size=\"14.00\">x</text>\n",
       "</g>\n",
       "<!-- Mul(Symbol(&#39;x&#39;), Symbol(&#39;y&#39;))_(1,)&#45;&gt;Symbol(&#39;x&#39;)_(1, 0) -->\n",
       "<g id=\"edge3\" class=\"edge\">\n",
       "<title>Mul(Symbol('x'), Symbol('y'))_(1,)-&gt;Symbol('x')_(1, 0)</title>\n",
       "<path fill=\"none\" stroke=\"black\" d=\"M92.65,-72.76C88.29,-64.28 82.85,-53.71 77.96,-44.2\"/>\n",
       "<polygon fill=\"black\" stroke=\"black\" points=\"80.99,-42.44 73.3,-35.15 74.77,-45.64 80.99,-42.44\"/>\n",
       "</g>\n",
       "<!-- Symbol(&#39;y&#39;)_(1, 1) -->\n",
       "<g id=\"node5\" class=\"node\">\n",
       "<title>Symbol('y')_(1, 1)</title>\n",
       "<ellipse fill=\"none\" stroke=\"black\" cx=\"137\" cy=\"-18\" rx=\"27\" ry=\"18\"/>\n",
       "<text text-anchor=\"middle\" x=\"137\" y=\"-14.3\" font-family=\"Times,serif\" font-size=\"14.00\">y</text>\n",
       "</g>\n",
       "<!-- Mul(Symbol(&#39;x&#39;), Symbol(&#39;y&#39;))_(1,)&#45;&gt;Symbol(&#39;y&#39;)_(1, 1) -->\n",
       "<g id=\"edge4\" class=\"edge\">\n",
       "<title>Mul(Symbol('x'), Symbol('y'))_(1,)-&gt;Symbol('y')_(1, 1)</title>\n",
       "<path fill=\"none\" stroke=\"black\" d=\"M109.35,-72.76C113.71,-64.28 119.15,-53.71 124.04,-44.2\"/>\n",
       "<polygon fill=\"black\" stroke=\"black\" points=\"127.23,-45.64 128.7,-35.15 121.01,-42.44 127.23,-45.64\"/>\n",
       "</g>\n",
       "</g>\n",
       "</svg>"
      ],
      "text/plain": [
       "<IPython.core.display.SVG object>"
      ]
     },
     "execution_count": 2,
     "metadata": {
      "filenames": {
       "image/svg+xml": "/home/runner/work/mathematics/mathematics/docs/_build/jupyter_execute/sympy/a6-manipulation_2_0.svg"
      }
     },
     "output_type": "execute_result"
    }
   ],
   "source": [
    "x, y, z = symbols('x y z')\n",
    "\n",
    "z = x + y*x\n",
    "\n",
    "display_dot(z)"
   ]
  },
  {
   "cell_type": "code",
   "execution_count": 3,
   "id": "a79e13f3",
   "metadata": {},
   "outputs": [],
   "source": [
    "g = pydot.graph_from_dot_data(dotprint(z))[0]"
   ]
  },
  {
   "cell_type": "code",
   "execution_count": null,
   "id": "8a32107e",
   "metadata": {},
   "outputs": [],
   "source": []
  },
  {
   "cell_type": "code",
   "execution_count": 4,
   "id": "5331bd50",
   "metadata": {},
   "outputs": [
    {
     "data": {
      "text/plain": [
       "<pydot.Dot at 0x7f46c0597490>"
      ]
     },
     "execution_count": 4,
     "metadata": {},
     "output_type": "execute_result"
    }
   ],
   "source": [
    "g"
   ]
  },
  {
   "cell_type": "code",
   "execution_count": null,
   "id": "a94c0542",
   "metadata": {},
   "outputs": [],
   "source": []
  }
 ],
 "metadata": {
  "jupytext": {
   "formats": "md:myst",
   "text_representation": {
    "extension": ".md",
    "format_name": "myst",
    "format_version": 0.13,
    "jupytext_version": "1.10.3"
   }
  },
  "kernelspec": {
   "display_name": "ai",
   "language": "python",
   "name": "ai"
  },
  "language_info": {
   "codemirror_mode": {
    "name": "ipython",
    "version": 3
   },
   "file_extension": ".py",
   "mimetype": "text/x-python",
   "name": "python",
   "nbconvert_exporter": "python",
   "pygments_lexer": "ipython3",
   "version": "3.8.5"
  },
  "source_map": [
   13,
   19,
   35,
   43,
   47,
   51,
   55
  ]
 },
 "nbformat": 4,
 "nbformat_minor": 5
}