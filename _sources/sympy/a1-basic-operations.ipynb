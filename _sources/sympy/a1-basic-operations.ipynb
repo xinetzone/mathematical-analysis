{
 "cells": [
  {
   "cell_type": "markdown",
   "id": "efe2cca0",
   "metadata": {},
   "source": [
    "# 基本运算\n",
    "\n",
    "定义一些基本数学变量："
   ]
  },
  {
   "cell_type": "code",
   "execution_count": 1,
   "id": "c4648de1",
   "metadata": {},
   "outputs": [],
   "source": [
    "from sympy import *\n",
    "init_printing()\n",
    "\n",
    "x, y, z = symbols('x y z')"
   ]
  },
  {
   "cell_type": "markdown",
   "id": "ebda008f",
   "metadata": {},
   "source": [
    "## 置换\n",
    "\n",
    "置换（substitution）即把某个变量替换为另一个变量。使用 `subs` 方法实现："
   ]
  },
  {
   "cell_type": "code",
   "execution_count": 2,
   "id": "eb6f2be4",
   "metadata": {},
   "outputs": [
    {
     "name": "stderr",
     "output_type": "stream",
     "text": [
      "/home/runner/.local/lib/python3.8/site-packages/IPython/lib/latextools.py:126: MatplotlibDeprecationWarning: \n",
      "The to_png function was deprecated in Matplotlib 3.4 and will be removed two minor releases later. Use mathtext.math_to_image instead.\n",
      "  mt.to_png(f, s, fontsize=12, dpi=dpi, color=color)\n",
      "/home/runner/.local/lib/python3.8/site-packages/IPython/lib/latextools.py:126: MatplotlibDeprecationWarning: \n",
      "The to_rgba function was deprecated in Matplotlib 3.4 and will be removed two minor releases later. Use mathtext.math_to_image instead.\n",
      "  mt.to_png(f, s, fontsize=12, dpi=dpi, color=color)\n",
      "/home/runner/.local/lib/python3.8/site-packages/IPython/lib/latextools.py:126: MatplotlibDeprecationWarning: \n",
      "The to_mask function was deprecated in Matplotlib 3.4 and will be removed two minor releases later. Use mathtext.math_to_image instead.\n",
      "  mt.to_png(f, s, fontsize=12, dpi=dpi, color=color)\n",
      "/home/runner/.local/lib/python3.8/site-packages/IPython/lib/latextools.py:126: MatplotlibDeprecationWarning: \n",
      "The MathtextBackendBitmap class was deprecated in Matplotlib 3.4 and will be removed two minor releases later. Use mathtext.math_to_image instead.\n",
      "  mt.to_png(f, s, fontsize=12, dpi=dpi, color=color)\n"
     ]
    },
    {
     "data": {
      "image/png": "[encoded data removed]",
      "text/latex": [
       "$\\displaystyle \\cos{\\left(y \\right)} + 1$"
      ],
      "text/plain": [
       "cos(y) + 1"
      ]
     },
     "execution_count": 2,
     "metadata": {
      "filenames": {
       "image/png": "/home/runner/work/mathematics/mathematics/docs/_build/jupyter_execute/sympy/a1-basic-operations_3_1.png"
      }
     },
     "output_type": "execute_result"
    }
   ],
   "source": [
    "expr = cos(x) + 1\n",
    "expr.subs(x, y) # x 置换为 y"
   ]
  },
  {
   "cell_type": "markdown",
   "id": "b9414d75",
   "metadata": {},
   "source": [
    "需要**置换**的场景：\n",
    "\n",
    "1. 求解具体的表达式代表的值，比如："
   ]
  },
  {
   "cell_type": "code",
   "execution_count": 3,
   "id": "e166e2fd",
   "metadata": {},
   "outputs": [
    {
     "data": {
      "image/png": "[encoded data removed]",
      "text/latex": [
       "$\\displaystyle 2$"
      ],
      "text/plain": [
       "2"
      ]
     },
     "execution_count": 3,
     "metadata": {
      "filenames": {
       "image/png": "/home/runner/work/mathematics/mathematics/docs/_build/jupyter_execute/sympy/a1-basic-operations_5_0.png"
      }
     },
     "output_type": "execute_result"
    }
   ],
   "source": [
    "expr.subs(x, 0)"
   ]
  },
  {
   "cell_type": "markdown",
   "id": "37946c51",
   "metadata": {},
   "source": [
    "2. 变量替换："
   ]
  },
  {
   "cell_type": "code",
   "execution_count": 4,
   "id": "e326fd4c",
   "metadata": {},
   "outputs": [
    {
     "data": {
      "image/png": "[encoded data removed]",
      "text/latex": [
       "$\\displaystyle x^{x^{y}}$"
      ],
      "text/plain": [
       " ⎛ y⎞\n",
       " ⎝x ⎠\n",
       "x    "
      ]
     },
     "execution_count": 4,
     "metadata": {
      "filenames": {
       "image/png": "/home/runner/work/mathematics/mathematics/docs/_build/jupyter_execute/sympy/a1-basic-operations_7_0.png"
      }
     },
     "output_type": "execute_result"
    }
   ],
   "source": [
    "expr = x**y\n",
    "expr = expr.subs(y, x**y)\n",
    "expr"
   ]
  },
  {
   "cell_type": "code",
   "execution_count": 5,
   "id": "c4dbb8c2",
   "metadata": {},
   "outputs": [
    {
     "data": {
      "image/png": "[encoded data removed]",
      "text/latex": [
       "$\\displaystyle x^{x^{x^{x}}}$"
      ],
      "text/plain": [
       " ⎛ ⎛ x⎞⎞\n",
       " ⎜ ⎝x ⎠⎟\n",
       " ⎝x    ⎠\n",
       "x       "
      ]
     },
     "execution_count": 5,
     "metadata": {
      "filenames": {
       "image/png": "/home/runner/work/mathematics/mathematics/docs/_build/jupyter_execute/sympy/a1-basic-operations_8_0.png"
      }
     },
     "output_type": "execute_result"
    }
   ],
   "source": [
    "expr = expr.subs(y, x**x)\n",
    "expr"
   ]
  },
  {
   "cell_type": "code",
   "execution_count": 6,
   "id": "3187d5c5",
   "metadata": {},
   "outputs": [
    {
     "data": {
      "image/png": "[encoded data removed]",
      "text/latex": [
       "$\\displaystyle 2 \\sin{\\left(x \\right)} \\cos{\\left(x \\right)} + 2 \\cos^{2}{\\left(x \\right)} - 1$"
      ],
      "text/plain": [
       "                       2       \n",
       "2⋅sin(x)⋅cos(x) + 2⋅cos (x) - 1"
      ]
     },
     "execution_count": 6,
     "metadata": {
      "filenames": {
       "image/png": "/home/runner/work/mathematics/mathematics/docs/_build/jupyter_execute/sympy/a1-basic-operations_9_0.png"
      }
     },
     "output_type": "execute_result"
    }
   ],
   "source": [
    "expr = sin(2*x) + cos(2*x)\n",
    "expand_trig(expr) # 三角展开"
   ]
  },
  {
   "cell_type": "code",
   "execution_count": 7,
   "id": "f8fb8191",
   "metadata": {},
   "outputs": [
    {
     "data": {
      "image/png": "[encoded data removed]",
      "text/latex": [
       "$\\displaystyle 2 \\sin{\\left(x \\right)} \\cos{\\left(x \\right)} + \\cos{\\left(2 x \\right)}$"
      ],
      "text/plain": [
       "2⋅sin(x)⋅cos(x) + cos(2⋅x)"
      ]
     },
     "execution_count": 7,
     "metadata": {
      "filenames": {
       "image/png": "/home/runner/work/mathematics/mathematics/docs/_build/jupyter_execute/sympy/a1-basic-operations_10_0.png"
      }
     },
     "output_type": "execute_result"
    }
   ],
   "source": [
    "expr.subs(sin(2*x), 2*sin(x)*cos(x))"
   ]
  },
  {
   "cell_type": "markdown",
   "id": "c59f83c3",
   "metadata": {},
   "source": [
    "```{tip}\n",
    "SymPy 表达式是不可变的对象。\n",
    "```\n",
    "\n",
    "替换多个变量可以这样："
   ]
  },
  {
   "cell_type": "code",
   "execution_count": 8,
   "id": "a5fbef31",
   "metadata": {},
   "outputs": [
    {
     "data": {
      "image/png": "[encoded data removed]",
      "text/latex": [
       "$\\displaystyle 40$"
      ],
      "text/plain": [
       "40"
      ]
     },
     "execution_count": 8,
     "metadata": {
      "filenames": {
       "image/png": "/home/runner/work/mathematics/mathematics/docs/_build/jupyter_execute/sympy/a1-basic-operations_12_0.png"
      }
     },
     "output_type": "execute_result"
    }
   ],
   "source": [
    "expr = x**3 + 4*x*y - z\n",
    "expr.subs([(x, 2), (y, 4), (z, 0)])"
   ]
  },
  {
   "cell_type": "markdown",
   "id": "8aabcde8",
   "metadata": {},
   "source": [
    "甚至，可以制定替换的规则："
   ]
  },
  {
   "cell_type": "code",
   "execution_count": 9,
   "id": "ed8096d7",
   "metadata": {},
   "outputs": [
    {
     "data": {
      "image/png": "[encoded data removed]",
      "text/latex": [
       "$\\displaystyle - 4 x^{3} - 2 x + y^{4} + 4 y^{2} + 3$"
      ],
      "text/plain": [
       "     3          4      2    \n",
       "- 4⋅x  - 2⋅x + y  + 4⋅y  + 3"
      ]
     },
     "execution_count": 9,
     "metadata": {
      "filenames": {
       "image/png": "/home/runner/work/mathematics/mathematics/docs/_build/jupyter_execute/sympy/a1-basic-operations_14_0.png"
      }
     },
     "output_type": "execute_result"
    }
   ],
   "source": [
    "expr = x**4 - 4*x**3 + 4*x**2 - 2*x + 3\n",
    "replacements = [(x**i, y**i) for i in range(5) if i % 2 == 0]\n",
    "expr.subs(replacements)"
   ]
  },
  {
   "cell_type": "markdown",
   "id": "24562594",
   "metadata": {},
   "source": [
    "## 转换字符串为 SymPy 表达式\n",
    "\n",
    "`sympify` 可以将字符串转换为 SymPy 表达式："
   ]
  },
  {
   "cell_type": "code",
   "execution_count": 10,
   "id": "674f194d",
   "metadata": {},
   "outputs": [
    {
     "data": {
      "image/png": "[encoded data removed]",
      "text/latex": [
       "$\\displaystyle x^{2} + 3 x - \\frac{1}{2}$"
      ],
      "text/plain": [
       " 2         1\n",
       "x  + 3⋅x - ─\n",
       "           2"
      ]
     },
     "execution_count": 10,
     "metadata": {
      "filenames": {
       "image/png": "/home/runner/work/mathematics/mathematics/docs/_build/jupyter_execute/sympy/a1-basic-operations_16_0.png"
      }
     },
     "output_type": "execute_result"
    }
   ],
   "source": [
    "str_expr = \"x**2 + 3*x - 1/2\"\n",
    "expr = sympify(str_expr)\n",
    "expr"
   ]
  },
  {
   "cell_type": "code",
   "execution_count": 11,
   "id": "996c0d25",
   "metadata": {},
   "outputs": [
    {
     "data": {
      "image/png": "[encoded data removed]",
      "text/latex": [
       "$\\displaystyle \\frac{19}{2}$"
      ],
      "text/plain": [
       "19/2"
      ]
     },
     "execution_count": 11,
     "metadata": {
      "filenames": {
       "image/png": "/home/runner/work/mathematics/mathematics/docs/_build/jupyter_execute/sympy/a1-basic-operations_17_0.png"
      }
     },
     "output_type": "execute_result"
    }
   ],
   "source": [
    "expr.subs(x, 2)"
   ]
  },
  {
   "cell_type": "markdown",
   "id": "32a05ff1",
   "metadata": {},
   "source": [
    "### `evalf`\n",
    "\n",
    "`evalf` 将数值表达式转换为浮点数："
   ]
  },
  {
   "cell_type": "code",
   "execution_count": 12,
   "id": "e6ed1a24",
   "metadata": {},
   "outputs": [
    {
     "data": {
      "image/png": "[encoded data removed]",
      "text/latex": [
       "$\\displaystyle 2.82842712474619$"
      ],
      "text/plain": [
       "2.82842712474619"
      ]
     },
     "execution_count": 12,
     "metadata": {
      "filenames": {
       "image/png": "/home/runner/work/mathematics/mathematics/docs/_build/jupyter_execute/sympy/a1-basic-operations_19_0.png"
      }
     },
     "output_type": "execute_result"
    }
   ],
   "source": [
    "expr = sqrt(8)\n",
    "expr.evalf()"
   ]
  },
  {
   "cell_type": "markdown",
   "id": "c4b6598d",
   "metadata": {},
   "source": [
    "可以浮点数设置精确的位数："
   ]
  },
  {
   "cell_type": "code",
   "execution_count": 13,
   "id": "9c1ea143",
   "metadata": {},
   "outputs": [
    {
     "data": {
      "image/png": "[encoded data removed]",
      "text/latex": [
       "$\\displaystyle 3.141592653589793238462643383279502884197169399375105820974944592307816406286208998628034825342117068$"
      ],
      "text/plain": [
       "3.1415926535897932384626433832795028841971693993751058209749445923078164062862\n",
       "08998628034825342117068"
      ]
     },
     "execution_count": 13,
     "metadata": {
      "filenames": {
       "image/png": "/home/runner/work/mathematics/mathematics/docs/_build/jupyter_execute/sympy/a1-basic-operations_21_0.png"
      }
     },
     "output_type": "execute_result"
    }
   ],
   "source": [
    "pi.evalf(100)"
   ]
  },
  {
   "cell_type": "markdown",
   "id": "9bfc99a3",
   "metadata": {},
   "source": [
    "为了精确的计算数值表达式，可以这样："
   ]
  },
  {
   "cell_type": "code",
   "execution_count": 14,
   "id": "0eaf2690",
   "metadata": {},
   "outputs": [
    {
     "data": {
      "image/png": "[encoded data removed]",
      "text/latex": [
       "$\\displaystyle 0.0874989834394464$"
      ],
      "text/plain": [
       "0.0874989834394464"
      ]
     },
     "execution_count": 14,
     "metadata": {
      "filenames": {
       "image/png": "/home/runner/work/mathematics/mathematics/docs/_build/jupyter_execute/sympy/a1-basic-operations_23_0.png"
      }
     },
     "output_type": "execute_result"
    }
   ],
   "source": [
    "expr = cos(2*x)\n",
    "expr.evalf(subs={x: 2.4})"
   ]
  },
  {
   "cell_type": "markdown",
   "id": "91099a92",
   "metadata": {},
   "source": [
    "有时舍入误差小于期望精度，可能会这样："
   ]
  },
  {
   "cell_type": "code",
   "execution_count": 15,
   "id": "9806f315",
   "metadata": {},
   "outputs": [
    {
     "data": {
      "image/png": "[encoded data removed]",
      "text/latex": [
       "$\\displaystyle -4.0 \\cdot 10^{-124}$"
      ],
      "text/plain": [
       "-0.e-124"
      ]
     },
     "execution_count": 15,
     "metadata": {
      "filenames": {
       "image/png": "/home/runner/work/mathematics/mathematics/docs/_build/jupyter_execute/sympy/a1-basic-operations_25_0.png"
      }
     },
     "output_type": "execute_result"
    }
   ],
   "source": [
    "one = cos(1)**2 + sin(1)**2\n",
    "(one - 1).evalf()"
   ]
  },
  {
   "cell_type": "markdown",
   "id": "2d41e542",
   "metadata": {},
   "source": [
    "此时，可以："
   ]
  },
  {
   "cell_type": "code",
   "execution_count": 16,
   "id": "9f679ef1",
   "metadata": {},
   "outputs": [
    {
     "data": {
      "image/png": "[encoded data removed]",
      "text/latex": [
       "$\\displaystyle 0$"
      ],
      "text/plain": [
       "0"
      ]
     },
     "execution_count": 16,
     "metadata": {
      "filenames": {
       "image/png": "/home/runner/work/mathematics/mathematics/docs/_build/jupyter_execute/sympy/a1-basic-operations_27_0.png"
      }
     },
     "output_type": "execute_result"
    }
   ],
   "source": [
    "(one - 1).evalf(chop=True)"
   ]
  },
  {
   "cell_type": "markdown",
   "id": "79b8130a",
   "metadata": {},
   "source": [
    "### `lambdify`\n",
    "\n",
    "如果数据量很大，需要借助 [NumPy](http://www.numpy.org/) 和 [SciPy](http://www.scipy.org/)："
   ]
  },
  {
   "cell_type": "code",
   "execution_count": 17,
   "id": "420b6a23",
   "metadata": {},
   "outputs": [
    {
     "data": {
      "text/plain": [
       "array([ 0.        ,  0.84147098,  0.90929743,  0.14112001, -0.7568025 ,\n",
       "       -0.95892427, -0.2794155 ,  0.6569866 ,  0.98935825,  0.41211849])"
      ]
     },
     "execution_count": 17,
     "metadata": {},
     "output_type": "execute_result"
    }
   ],
   "source": [
    "import numpy as np\n",
    "a = np.arange(10)\n",
    "expr = sin(x)\n",
    "f = lambdify(x, expr, \"numpy\")\n",
    "f(a)"
   ]
  },
  {
   "cell_type": "markdown",
   "id": "66f8b129",
   "metadata": {},
   "source": [
    "也可以自定义数值计算函数："
   ]
  },
  {
   "cell_type": "code",
   "execution_count": 18,
   "id": "f94e96d0",
   "metadata": {},
   "outputs": [
    {
     "data": {
      "image/png": "[encoded data removed]",
      "text/latex": [
       "$\\displaystyle 0.0998334166468282$"
      ],
      "text/plain": [
       "0.09983341664682815"
      ]
     },
     "execution_count": 18,
     "metadata": {
      "filenames": {
       "image/png": "/home/runner/work/mathematics/mathematics/docs/_build/jupyter_execute/sympy/a1-basic-operations_31_0.png"
      }
     },
     "output_type": "execute_result"
    }
   ],
   "source": [
    "def mysin(x):\n",
    "    \"\"\"\n",
    "    My sine. Note that this is only accurate for small x.\n",
    "    \"\"\"\n",
    "    return np.sin(x)\n",
    "\n",
    "f = lambdify(x, expr, {\"sin\":mysin})\n",
    "\n",
    "f(0.1)"
   ]
  },
  {
   "cell_type": "code",
   "execution_count": null,
   "id": "0d3d0f2b",
   "metadata": {},
   "outputs": [],
   "source": []
  }
 ],
 "metadata": {
  "jupytext": {
   "formats": "md:myst",
   "text_representation": {
    "extension": ".md",
    "format_name": "myst",
    "format_version": 0.13,
    "jupytext_version": "1.10.3"
   }
  },
  "kernelspec": {
   "display_name": "ai",
   "language": "python",
   "name": "ai"
  },
  "language_info": {
   "codemirror_mode": {
    "name": "ipython",
    "version": 3
   },
   "file_extension": ".py",
   "mimetype": "text/x-python",
   "name": "python",
   "nbconvert_exporter": "python",
   "pygments_lexer": "ipython3",
   "version": "3.8.5"
  },
  "source_map": [
   13,
   19,
   24,
   30,
   33,
   39,
   41,
   45,
   51,
   56,
   61,
   63,
   71,
   74,
   78,
   82,
   88,
   94,
   96,
   102,
   105,
   109,
   111,
   115,
   118,
   122,
   125,
   129,
   131,
   137,
   143,
   147,
   159
  ]
 },
 "nbformat": 4,
 "nbformat_minor": 5
}