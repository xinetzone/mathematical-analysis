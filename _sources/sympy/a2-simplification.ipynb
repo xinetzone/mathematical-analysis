{
 "cells": [
  {
   "cell_type": "markdown",
   "id": "3bd4a642",
   "metadata": {},
   "source": [
    "# 化简\n",
    "\n",
    "参考：[Simplification](https://docs.sympy.org/latest/tutorial/simplification.html)\n",
    "\n",
    "## `simplify` 是通用的简化方式"
   ]
  },
  {
   "cell_type": "code",
   "execution_count": 1,
   "id": "b072a1d6",
   "metadata": {},
   "outputs": [],
   "source": [
    "from sympy import *\n",
    "\n",
    "x, y, z = symbols('x:z')"
   ]
  },
  {
   "cell_type": "markdown",
   "id": "fce49aea",
   "metadata": {},
   "source": [
    "`simplify` 可以简化表达式："
   ]
  },
  {
   "cell_type": "code",
   "execution_count": 2,
   "id": "3f89d9c0",
   "metadata": {},
   "outputs": [
    {
     "data": {
      "text/latex": [
       "$\\displaystyle 1$"
      ],
      "text/plain": [
       "1"
      ]
     },
     "execution_count": 2,
     "metadata": {},
     "output_type": "execute_result"
    }
   ],
   "source": [
    "simplify(sin(x)**2 + cos(x)**2)"
   ]
  },
  {
   "cell_type": "code",
   "execution_count": 3,
   "id": "e2b673db",
   "metadata": {},
   "outputs": [
    {
     "data": {
      "text/latex": [
       "$\\displaystyle x - 1$"
      ],
      "text/plain": [
       "x - 1"
      ]
     },
     "execution_count": 3,
     "metadata": {},
     "output_type": "execute_result"
    }
   ],
   "source": [
    "simplify((x**3 + x**2 - x - 1)/(x**2 + 2*x + 1))"
   ]
  },
  {
   "cell_type": "code",
   "execution_count": 4,
   "id": "79306a4c",
   "metadata": {},
   "outputs": [
    {
     "data": {
      "text/latex": [
       "$\\displaystyle \\left(x - 2\\right) \\left(x - 1\\right)$"
      ],
      "text/plain": [
       "(x - 2)*(x - 1)"
      ]
     },
     "execution_count": 4,
     "metadata": {},
     "output_type": "execute_result"
    }
   ],
   "source": [
    "simplify(gamma(x)/gamma(x - 2))"
   ]
  },
  {
   "cell_type": "markdown",
   "id": "7fa4d411",
   "metadata": {},
   "source": [
    "这里 `gamma(x)` 指的是：$\\Gamma(x)$。\n",
    "\n",
    "注意：`simplify` 仅仅是简化，不能做到因式分解："
   ]
  },
  {
   "cell_type": "code",
   "execution_count": 5,
   "id": "b279a8b5",
   "metadata": {},
   "outputs": [
    {
     "data": {
      "text/latex": [
       "$\\displaystyle x^{2} + 2 x + 1$"
      ],
      "text/plain": [
       "x**2 + 2*x + 1"
      ]
     },
     "execution_count": 5,
     "metadata": {},
     "output_type": "execute_result"
    }
   ],
   "source": [
    "simplify(x**2 + 2*x + 1)"
   ]
  },
  {
   "cell_type": "markdown",
   "id": "d7d9ce6c",
   "metadata": {},
   "source": [
    "`factor()` 保证将多项式分解为不可约因子。"
   ]
  },
  {
   "cell_type": "code",
   "execution_count": 6,
   "id": "c5ab0319",
   "metadata": {},
   "outputs": [
    {
     "data": {
      "text/latex": [
       "$\\displaystyle \\left(x + 1\\right)^{2}$"
      ],
      "text/plain": [
       "(x + 1)**2"
      ]
     },
     "execution_count": 6,
     "metadata": {},
     "output_type": "execute_result"
    }
   ],
   "source": [
    "factor(x**2 + 2*x + 1)"
   ]
  },
  {
   "cell_type": "markdown",
   "id": "63185ef1",
   "metadata": {},
   "source": [
    "## 多项式/有理函数化简\n",
    "\n",
    "### `expand` 展开多项式"
   ]
  },
  {
   "cell_type": "code",
   "execution_count": 7,
   "id": "c0cb06c3",
   "metadata": {},
   "outputs": [
    {
     "data": {
      "text/latex": [
       "$\\displaystyle x^{2} + 2 x + 1$"
      ],
      "text/plain": [
       "x**2 + 2*x + 1"
      ]
     },
     "execution_count": 7,
     "metadata": {},
     "output_type": "execute_result"
    }
   ],
   "source": [
    "expand((x + 1)**2)"
   ]
  },
  {
   "cell_type": "code",
   "execution_count": 8,
   "id": "6aa6767a",
   "metadata": {},
   "outputs": [
    {
     "data": {
      "text/latex": [
       "$\\displaystyle x^{2} - x - 6$"
      ],
      "text/plain": [
       "x**2 - x - 6"
      ]
     },
     "execution_count": 8,
     "metadata": {},
     "output_type": "execute_result"
    }
   ],
   "source": [
    "expand((x + 2)*(x - 3))"
   ]
  },
  {
   "cell_type": "markdown",
   "id": "249a8cad",
   "metadata": {},
   "source": [
    "给定一个多项式，`expand()` 将把它变成单项式和的规范形式。\n",
    "\n",
    "`expand()` 听起来可能不像一个简化函数。毕竟，就其名称而言，它使表达式更大，而不是更小。通常是这种情况，但由于 cancellation，表达式在调用 `expand()` 时通常会变小。"
   ]
  },
  {
   "cell_type": "code",
   "execution_count": 9,
   "id": "acb92a2b",
   "metadata": {},
   "outputs": [
    {
     "data": {
      "text/latex": [
       "$\\displaystyle -2$"
      ],
      "text/plain": [
       "-2"
      ]
     },
     "execution_count": 9,
     "metadata": {},
     "output_type": "execute_result"
    }
   ],
   "source": [
    "expand((x + 1)*(x - 2) - (x - 1)*x)"
   ]
  },
  {
   "cell_type": "markdown",
   "id": "bd84ceff",
   "metadata": {},
   "source": [
    "### factor\n",
    "\n",
    "`factor()` 将多项式分解为有理数上的不可约因子。例如："
   ]
  },
  {
   "cell_type": "code",
   "execution_count": 10,
   "id": "806ffff1",
   "metadata": {},
   "outputs": [
    {
     "data": {
      "text/latex": [
       "$\\displaystyle \\left(x - 1\\right) \\left(x^{2} + 1\\right)$"
      ],
      "text/plain": [
       "(x - 1)*(x**2 + 1)"
      ]
     },
     "execution_count": 10,
     "metadata": {},
     "output_type": "execute_result"
    }
   ],
   "source": [
    "factor(x**3 - x**2 + x - 1)"
   ]
  },
  {
   "cell_type": "code",
   "execution_count": 11,
   "id": "5f60b46d",
   "metadata": {},
   "outputs": [
    {
     "data": {
      "text/latex": [
       "$\\displaystyle z \\left(x + 2 y\\right)^{2}$"
      ],
      "text/plain": [
       "z*(x + 2*y)**2"
      ]
     },
     "execution_count": 11,
     "metadata": {},
     "output_type": "execute_result"
    }
   ],
   "source": [
    "factor(x**2*z + 4*x*y*z + 4*y**2*z)"
   ]
  },
  {
   "cell_type": "markdown",
   "id": "c31d57d1",
   "metadata": {},
   "source": [
    "对于多项式，`factor()` 与 `expand()` 相反。`factor()` 对有理数使用完整的多元因子分解算法，这意味着 `factor()` 返回的每个因子都保证是不可约的。如果您对因子本身感兴趣，`factor_list` 会返回一个更结构化的输出。"
   ]
  },
  {
   "cell_type": "code",
   "execution_count": 12,
   "id": "f49175ea",
   "metadata": {},
   "outputs": [
    {
     "data": {
      "text/plain": [
       "(1, [(z, 1), (x + 2*y, 2)])"
      ]
     },
     "execution_count": 12,
     "metadata": {},
     "output_type": "execute_result"
    }
   ],
   "source": [
    "factor_list(x**2*z + 4*x*y*z + 4*y**2*z)"
   ]
  },
  {
   "cell_type": "markdown",
   "id": "53683535",
   "metadata": {},
   "source": [
    "请注意，`factor` 和 `expand` 的输入不必是严格意义上的多项式。他们将智能地分解或扩展任何类型的表达式（但请注意，如果输入不再是有理数上的多项式，则这些因子可能不是不可约的）。"
   ]
  },
  {
   "cell_type": "code",
   "execution_count": 13,
   "id": "b1a94405",
   "metadata": {},
   "outputs": [
    {
     "data": {
      "text/latex": [
       "$\\displaystyle \\sin^{2}{\\left(x \\right)} + 2 \\sin{\\left(x \\right)} \\cos{\\left(x \\right)} + \\cos^{2}{\\left(x \\right)}$"
      ],
      "text/plain": [
       "sin(x)**2 + 2*sin(x)*cos(x) + cos(x)**2"
      ]
     },
     "execution_count": 13,
     "metadata": {},
     "output_type": "execute_result"
    }
   ],
   "source": [
    "expand((cos(x) + sin(x))**2)"
   ]
  },
  {
   "cell_type": "code",
   "execution_count": 14,
   "id": "5b1602db",
   "metadata": {},
   "outputs": [
    {
     "data": {
      "text/latex": [
       "$\\displaystyle \\left(\\sin{\\left(x \\right)} + \\cos{\\left(x \\right)}\\right)^{2}$"
      ],
      "text/plain": [
       "(sin(x) + cos(x))**2"
      ]
     },
     "execution_count": 14,
     "metadata": {},
     "output_type": "execute_result"
    }
   ],
   "source": [
    "factor(cos(x)**2 + 2*cos(x)*sin(x) + sin(x)**2)"
   ]
  },
  {
   "cell_type": "markdown",
   "id": "88d20cd8",
   "metadata": {},
   "source": [
    "### `collect`\n",
    "\n",
    "`collect()` 收集表达式中项的公共幂。"
   ]
  },
  {
   "cell_type": "code",
   "execution_count": 15,
   "id": "0678fbd0",
   "metadata": {},
   "outputs": [
    {
     "data": {
      "text/latex": [
       "$\\displaystyle x^{3} - x^{2} z + 2 x^{2} + x y + x - 3$"
      ],
      "text/plain": [
       "x**3 - x**2*z + 2*x**2 + x*y + x - 3"
      ]
     },
     "execution_count": 15,
     "metadata": {},
     "output_type": "execute_result"
    }
   ],
   "source": [
    "expr = x*y + x - 3 + 2*x**2 - z*x**2 + x**3\n",
    "expr"
   ]
  },
  {
   "cell_type": "code",
   "execution_count": 16,
   "id": "45ab4112",
   "metadata": {},
   "outputs": [
    {
     "data": {
      "text/latex": [
       "$\\displaystyle x^{3} + x^{2} \\left(2 - z\\right) + x \\left(y + 1\\right) - 3$"
      ],
      "text/plain": [
       "x**3 + x**2*(2 - z) + x*(y + 1) - 3"
      ]
     },
     "execution_count": 16,
     "metadata": {},
     "output_type": "execute_result"
    }
   ],
   "source": [
    "collected_expr = collect(expr, x)\n",
    "collected_expr"
   ]
  },
  {
   "cell_type": "markdown",
   "id": "a47ea2e4",
   "metadata": {},
   "source": [
    "`collect()` 与 `.coeff()` 方法结合使用特别有用。`expr.coeff(x, n)` 给出 `expr` 中 $x^n$ 的系数："
   ]
  },
  {
   "cell_type": "code",
   "execution_count": 17,
   "id": "6f476cc0",
   "metadata": {},
   "outputs": [
    {
     "data": {
      "text/latex": [
       "$\\displaystyle 2 - z$"
      ],
      "text/plain": [
       "2 - z"
      ]
     },
     "execution_count": 17,
     "metadata": {},
     "output_type": "execute_result"
    }
   ],
   "source": [
    "collected_expr.coeff(x, 2)"
   ]
  },
  {
   "cell_type": "markdown",
   "id": "46ea452f",
   "metadata": {},
   "source": [
    "### `cancel` 约分\n",
    "\n",
    "`cancel()` 将采用任何有理函数并将其放入标准规范形式 ${\\frac p q}$ 中，其中 $p$ 和 $q$ 是没有公因子的扩展多项式，并且 $p$ 和 $q$ 的前导系数没有分母（即整数）。"
   ]
  },
  {
   "cell_type": "code",
   "execution_count": 18,
   "id": "f95b26a6",
   "metadata": {},
   "outputs": [
    {
     "data": {
      "text/latex": [
       "$\\displaystyle \\frac{x + 1}{x}$"
      ],
      "text/plain": [
       "(x + 1)/x"
      ]
     },
     "execution_count": 18,
     "metadata": {},
     "output_type": "execute_result"
    }
   ],
   "source": [
    "cancel((x**2 + 2*x + 1)/(x**2 + x))"
   ]
  },
  {
   "cell_type": "code",
   "execution_count": 19,
   "id": "e1da50af",
   "metadata": {},
   "outputs": [
    {
     "data": {
      "text/latex": [
       "$\\displaystyle \\frac{\\frac{3 x}{2} - 2}{x - 4} + \\frac{1}{x}$"
      ],
      "text/plain": [
       "(3*x/2 - 2)/(x - 4) + 1/x"
      ]
     },
     "execution_count": 19,
     "metadata": {},
     "output_type": "execute_result"
    }
   ],
   "source": [
    "expr = 1/x + (3*x/2 - 2)/(x - 4)\n",
    "expr"
   ]
  },
  {
   "cell_type": "code",
   "execution_count": 20,
   "id": "6e519013",
   "metadata": {},
   "outputs": [
    {
     "data": {
      "text/latex": [
       "$\\displaystyle \\frac{3 x^{2} - 2 x - 8}{2 x^{2} - 8 x}$"
      ],
      "text/plain": [
       "(3*x**2 - 2*x - 8)/(2*x**2 - 8*x)"
      ]
     },
     "execution_count": 20,
     "metadata": {},
     "output_type": "execute_result"
    }
   ],
   "source": [
    "cancel(expr)"
   ]
  },
  {
   "cell_type": "code",
   "execution_count": 21,
   "id": "7d1e1c01",
   "metadata": {},
   "outputs": [
    {
     "data": {
      "text/latex": [
       "$\\displaystyle \\frac{x y^{2} - 2 x y z + x z^{2} + y^{2} - 2 y z + z^{2}}{x^{2} - 1}$"
      ],
      "text/plain": [
       "(x*y**2 - 2*x*y*z + x*z**2 + y**2 - 2*y*z + z**2)/(x**2 - 1)"
      ]
     },
     "execution_count": 21,
     "metadata": {},
     "output_type": "execute_result"
    }
   ],
   "source": [
    "expr = (x*y**2 - 2*x*y*z + x*z**2 + y**2 - 2*y*z + z**2)/(x**2 - 1)\n",
    "expr"
   ]
  },
  {
   "cell_type": "code",
   "execution_count": 22,
   "id": "dd6aa57c",
   "metadata": {},
   "outputs": [
    {
     "data": {
      "text/latex": [
       "$\\displaystyle \\frac{y^{2} - 2 y z + z^{2}}{x - 1}$"
      ],
      "text/plain": [
       "(y**2 - 2*y*z + z**2)/(x - 1)"
      ]
     },
     "execution_count": 22,
     "metadata": {},
     "output_type": "execute_result"
    }
   ],
   "source": [
    "cancel(expr)"
   ]
  },
  {
   "cell_type": "markdown",
   "id": "81e460bf",
   "metadata": {},
   "source": [
    "请注意，由于 `factor()` 将完全分解表达式的分子和分母，因此它也可以用于做同样的事情："
   ]
  },
  {
   "cell_type": "code",
   "execution_count": 23,
   "id": "f2f896a3",
   "metadata": {},
   "outputs": [
    {
     "data": {
      "text/latex": [
       "$\\displaystyle \\frac{\\left(y - z\\right)^{2}}{x - 1}$"
      ],
      "text/plain": [
       "(y - z)**2/(x - 1)"
      ]
     },
     "execution_count": 23,
     "metadata": {},
     "output_type": "execute_result"
    }
   ],
   "source": [
    "factor(expr)"
   ]
  },
  {
   "cell_type": "markdown",
   "id": "f2445276",
   "metadata": {},
   "source": [
    "但是，如果您只想确保表达式处于 cancel 形式，`cancel()` 比 `factor()` 更有效。\n",
    "\n",
    "### apart()\n",
    "`apart()` 对有理函数执行[部分分式分解](https://en.wikipedia.org/wiki/Partial_fraction_decomposition)。"
   ]
  },
  {
   "cell_type": "code",
   "execution_count": 24,
   "id": "909869ff",
   "metadata": {},
   "outputs": [
    {
     "data": {
      "text/latex": [
       "$\\displaystyle \\frac{4 x^{3} + 21 x^{2} + 10 x + 12}{x^{4} + 5 x^{3} + 5 x^{2} + 4 x}$"
      ],
      "text/plain": [
       "(4*x**3 + 21*x**2 + 10*x + 12)/(x**4 + 5*x**3 + 5*x**2 + 4*x)"
      ]
     },
     "execution_count": 24,
     "metadata": {},
     "output_type": "execute_result"
    }
   ],
   "source": [
    "expr = (4*x**3 + 21*x**2 + 10*x + 12)/(x**4 + 5*x**3 + 5*x**2 + 4*x)\n",
    "expr"
   ]
  },
  {
   "cell_type": "code",
   "execution_count": 25,
   "id": "b0182967",
   "metadata": {},
   "outputs": [
    {
     "data": {
      "text/latex": [
       "$\\displaystyle \\frac{2 x - 1}{x^{2} + x + 1} - \\frac{1}{x + 4} + \\frac{3}{x}$"
      ],
      "text/plain": [
       "(2*x - 1)/(x**2 + x + 1) - 1/(x + 4) + 3/x"
      ]
     },
     "execution_count": 25,
     "metadata": {},
     "output_type": "execute_result"
    }
   ],
   "source": [
    "apart(expr)"
   ]
  },
  {
   "cell_type": "markdown",
   "id": "d26bd43c",
   "metadata": {},
   "source": [
    "## 三角函数简化\n",
    "\n",
    "### `trigsimp`\n",
    "\n",
    "要使用三角恒等式简化表达式，请使用 `trigsimp()`。"
   ]
  },
  {
   "cell_type": "code",
   "execution_count": 26,
   "id": "cb0c7b34",
   "metadata": {},
   "outputs": [
    {
     "data": {
      "text/latex": [
       "$\\displaystyle 1$"
      ],
      "text/plain": [
       "1"
      ]
     },
     "execution_count": 26,
     "metadata": {},
     "output_type": "execute_result"
    }
   ],
   "source": [
    "trigsimp(sin(x)**2 + cos(x)**2)"
   ]
  },
  {
   "cell_type": "code",
   "execution_count": 27,
   "id": "26ceb9a1",
   "metadata": {},
   "outputs": [
    {
     "data": {
      "text/latex": [
       "$\\displaystyle \\frac{\\cos{\\left(4 x \\right)}}{2} + \\frac{1}{2}$"
      ],
      "text/plain": [
       "cos(4*x)/2 + 1/2"
      ]
     },
     "execution_count": 27,
     "metadata": {},
     "output_type": "execute_result"
    }
   ],
   "source": [
    "trigsimp(sin(x)**4 - 2*cos(x)**2*sin(x)**2 + cos(x)**4)"
   ]
  },
  {
   "cell_type": "code",
   "execution_count": 28,
   "id": "579c09a8",
   "metadata": {},
   "outputs": [
    {
     "data": {
      "text/latex": [
       "$\\displaystyle \\sin^{2}{\\left(x \\right)}$"
      ],
      "text/plain": [
       "sin(x)**2"
      ]
     },
     "execution_count": 28,
     "metadata": {},
     "output_type": "execute_result"
    }
   ],
   "source": [
    "trigsimp(sin(x)*tan(x)/sec(x))"
   ]
  },
  {
   "cell_type": "markdown",
   "id": "232e4d28",
   "metadata": {},
   "source": [
    "`trigsimp()` 也适用于双曲三角函数。"
   ]
  },
  {
   "cell_type": "code",
   "execution_count": 29,
   "id": "9c030583",
   "metadata": {},
   "outputs": [
    {
     "data": {
      "text/latex": [
       "$\\displaystyle \\cosh{\\left(2 x \\right)}$"
      ],
      "text/plain": [
       "cosh(2*x)"
      ]
     },
     "execution_count": 29,
     "metadata": {},
     "output_type": "execute_result"
    }
   ],
   "source": [
    "trigsimp(cosh(x)**2 + sinh(x)**2)"
   ]
  },
  {
   "cell_type": "code",
   "execution_count": 30,
   "id": "3e2675a1",
   "metadata": {},
   "outputs": [
    {
     "data": {
      "text/latex": [
       "$\\displaystyle \\cosh{\\left(x \\right)}$"
      ],
      "text/plain": [
       "cosh(x)"
      ]
     },
     "execution_count": 30,
     "metadata": {},
     "output_type": "execute_result"
    }
   ],
   "source": [
    "trigsimp(sinh(x)/tanh(x))"
   ]
  },
  {
   "cell_type": "markdown",
   "id": "79126ea3",
   "metadata": {},
   "source": [
    "与 `simplify()` 非常相似，`trigsimp()` 将各种三角恒等式应用于输入表达式，然后使用启发式方法返回“最佳”一个。\n",
    "\n",
    "### `expand_trig`\n",
    "\n",
    "要扩展三角函数，即应用和或双角恒等式，请使用 `expand_trig()`。"
   ]
  },
  {
   "cell_type": "code",
   "execution_count": 31,
   "id": "d803b4d6",
   "metadata": {},
   "outputs": [
    {
     "data": {
      "text/latex": [
       "$\\displaystyle \\sin{\\left(x \\right)} \\cos{\\left(y \\right)} + \\sin{\\left(y \\right)} \\cos{\\left(x \\right)}$"
      ],
      "text/plain": [
       "sin(x)*cos(y) + sin(y)*cos(x)"
      ]
     },
     "execution_count": 31,
     "metadata": {},
     "output_type": "execute_result"
    }
   ],
   "source": [
    "expand_trig(sin(x + y))"
   ]
  },
  {
   "cell_type": "code",
   "execution_count": 32,
   "id": "cdf4b922",
   "metadata": {},
   "outputs": [
    {
     "data": {
      "text/latex": [
       "$\\displaystyle \\frac{2 \\tan{\\left(x \\right)}}{1 - \\tan^{2}{\\left(x \\right)}}$"
      ],
      "text/plain": [
       "2*tan(x)/(1 - tan(x)**2)"
      ]
     },
     "execution_count": 32,
     "metadata": {},
     "output_type": "execute_result"
    }
   ],
   "source": [
    "expand_trig(tan(2*x))"
   ]
  },
  {
   "cell_type": "markdown",
   "id": "29789416",
   "metadata": {},
   "source": [
    "由于 `expand_trig()` 倾向于使三角函数表达式更大，而 `trigsimp()` 倾向于使它们更小，因此可以使用 `trigsimp()` 反向应用这些恒等式。"
   ]
  },
  {
   "cell_type": "code",
   "execution_count": 33,
   "id": "9745e88e",
   "metadata": {},
   "outputs": [
    {
     "data": {
      "text/latex": [
       "$\\displaystyle \\sin{\\left(x + y \\right)}$"
      ],
      "text/plain": [
       "sin(x + y)"
      ]
     },
     "execution_count": 33,
     "metadata": {},
     "output_type": "execute_result"
    }
   ],
   "source": [
    "trigsimp(sin(x)*cos(y) + sin(y)*cos(x))"
   ]
  },
  {
   "cell_type": "markdown",
   "id": "d7528e30",
   "metadata": {},
   "source": [
    "## 幂运算\n",
    "\n",
    "在我们介绍简化幂函数之前，有必要先对幂的恒等式进行数学讨论。指数满足三种恒等式：\n",
    "\n",
    "1. $x^ax^b = x^{a + b}$\n",
    "2. $x^ay^a = (xy)^a$，其中 $x, y \\geq 0, a \\in \\mathbb{R}$\n",
    "3. $(x^a)^b = x^{ab}$ 其中 $b \\in \\mathbb{Z}$\n",
    "\n",
    "```{note}\n",
    "1. 默认情况下，SymPy 符号被假定为复数（\\mathbb{C} 的元素）。也就是说，除非它适用于所有复数，否则不会将简化应用于具有给定 Symbol 的表达式。\n",
    "2. 通过将假设传递给 `symbols()`，可以为符号提供不同的假设。\n",
    "```"
   ]
  },
  {
   "cell_type": "code",
   "execution_count": 34,
   "id": "64aa8e66",
   "metadata": {},
   "outputs": [],
   "source": [
    "x, y = symbols('x y', positive=True) # 正数\n",
    "a, b = symbols('a b', real=True) # 实数\n",
    "z, t, c = symbols('z t c')"
   ]
  },
  {
   "cell_type": "markdown",
   "id": "944976d1",
   "metadata": {},
   "source": [
    "注意：`sqrt(x)` 是 ` x**Rational(1, 2)` 的简写："
   ]
  },
  {
   "cell_type": "code",
   "execution_count": 35,
   "id": "5b6add1e",
   "metadata": {},
   "outputs": [
    {
     "data": {
      "text/plain": [
       "True"
      ]
     },
     "execution_count": 35,
     "metadata": {},
     "output_type": "execute_result"
    }
   ],
   "source": [
    "sqrt(x) == x**Rational(1, 2)"
   ]
  },
  {
   "cell_type": "markdown",
   "id": "ac69d237",
   "metadata": {},
   "source": [
    "### `powsimp`\n",
    "\n",
    "`powsimp()` 从上到下，从左到右应用等式 1 和 2。"
   ]
  },
  {
   "cell_type": "code",
   "execution_count": 36,
   "id": "824c5f3b",
   "metadata": {},
   "outputs": [
    {
     "data": {
      "text/latex": [
       "$\\displaystyle x^{a + b}$"
      ],
      "text/plain": [
       "x**(a + b)"
      ]
     },
     "execution_count": 36,
     "metadata": {},
     "output_type": "execute_result"
    }
   ],
   "source": [
    "powsimp(x**a*x**b)"
   ]
  },
  {
   "cell_type": "code",
   "execution_count": 37,
   "id": "16119cd8",
   "metadata": {},
   "outputs": [
    {
     "data": {
      "text/latex": [
       "$\\displaystyle \\left(x y\\right)^{a}$"
      ],
      "text/plain": [
       "(x*y)**a"
      ]
     },
     "execution_count": 37,
     "metadata": {},
     "output_type": "execute_result"
    }
   ],
   "source": [
    "powsimp(x**a*y**a)"
   ]
  },
  {
   "cell_type": "markdown",
   "id": "b74c0bce",
   "metadata": {},
   "source": [
    "请注意，如果 `powsimp()` 无效，则拒绝进行简化。"
   ]
  },
  {
   "cell_type": "code",
   "execution_count": 38,
   "id": "1a80c27f",
   "metadata": {},
   "outputs": [
    {
     "data": {
      "text/latex": [
       "$\\displaystyle t^{c} z^{c}$"
      ],
      "text/plain": [
       "t**c*z**c"
      ]
     },
     "execution_count": 38,
     "metadata": {},
     "output_type": "execute_result"
    }
   ],
   "source": [
    "powsimp(t**c*z**c)"
   ]
  },
  {
   "cell_type": "markdown",
   "id": "62e73d67",
   "metadata": {},
   "source": [
    "如果您知道要应用这种简化，但又不想弄乱假设，则可以传递 `force=True` 标志。无论假设如何，这都将强制进行简化。"
   ]
  },
  {
   "cell_type": "code",
   "execution_count": 39,
   "id": "7ac7d3da",
   "metadata": {},
   "outputs": [
    {
     "data": {
      "text/latex": [
       "$\\displaystyle \\left(t z\\right)^{c}$"
      ],
      "text/plain": [
       "(t*z)**c"
      ]
     },
     "execution_count": 39,
     "metadata": {},
     "output_type": "execute_result"
    }
   ],
   "source": [
    "powsimp(t**c*z**c, force=True)"
   ]
  },
  {
   "cell_type": "markdown",
   "id": "5b9bc6ae",
   "metadata": {},
   "source": [
    "请注意，在某些情况下，特别是当指数是整数或有理数且恒等式 2 成立时，它将自动应用。"
   ]
  },
  {
   "cell_type": "code",
   "execution_count": 40,
   "id": "34d2fd05",
   "metadata": {},
   "outputs": [
    {
     "data": {
      "text/latex": [
       "$\\displaystyle t^{2} z^{2}$"
      ],
      "text/plain": [
       "t**2*z**2"
      ]
     },
     "execution_count": 40,
     "metadata": {},
     "output_type": "execute_result"
    }
   ],
   "source": [
    "(z*t)**2"
   ]
  },
  {
   "cell_type": "code",
   "execution_count": 41,
   "id": "ba8dc339",
   "metadata": {},
   "outputs": [
    {
     "data": {
      "text/latex": [
       "$\\displaystyle \\sqrt{x} \\sqrt{y}$"
      ],
      "text/plain": [
       "sqrt(x)*sqrt(y)"
      ]
     },
     "execution_count": 41,
     "metadata": {},
     "output_type": "execute_result"
    }
   ],
   "source": [
    "sqrt(x*y)"
   ]
  },
  {
   "cell_type": "markdown",
   "id": "b07f2c44",
   "metadata": {},
   "source": [
    "这意味着无法使用 `powsimp()` 撤消此等式，因为即使 `powsimp()` 将基底放在一起，它们也会自动再次分开。"
   ]
  },
  {
   "cell_type": "code",
   "execution_count": 42,
   "id": "3bb0cee6",
   "metadata": {},
   "outputs": [
    {
     "data": {
      "text/latex": [
       "$\\displaystyle t^{2} z^{2}$"
      ],
      "text/plain": [
       "t**2*z**2"
      ]
     },
     "execution_count": 42,
     "metadata": {},
     "output_type": "execute_result"
    }
   ],
   "source": [
    "powsimp(z**2*t**2)"
   ]
  },
  {
   "cell_type": "markdown",
   "id": "216bf9ce",
   "metadata": {},
   "source": [
    "### `expand_power_exp` / `expand_power_base`\n",
    "\n",
    "`expand_power_exp()` 和 `expand_power_base()` 分别从右到左应用等式 1 和 2。"
   ]
  },
  {
   "cell_type": "code",
   "execution_count": 43,
   "id": "0cb6a3e6",
   "metadata": {},
   "outputs": [
    {
     "data": {
      "text/latex": [
       "$\\displaystyle x^{a} x^{b}$"
      ],
      "text/plain": [
       "x**a*x**b"
      ]
     },
     "execution_count": 43,
     "metadata": {},
     "output_type": "execute_result"
    }
   ],
   "source": [
    "expand_power_exp(x**(a + b))"
   ]
  },
  {
   "cell_type": "code",
   "execution_count": 44,
   "id": "52bb8d21",
   "metadata": {},
   "outputs": [
    {
     "data": {
      "text/latex": [
       "$\\displaystyle x^{a} y^{a}$"
      ],
      "text/plain": [
       "x**a*y**a"
      ]
     },
     "execution_count": 44,
     "metadata": {},
     "output_type": "execute_result"
    }
   ],
   "source": [
    "expand_power_base((x*y)**a)"
   ]
  },
  {
   "cell_type": "markdown",
   "id": "684bf4ee",
   "metadata": {},
   "source": [
    "与 `powsimp()` 一样，如果等式 2 无效，则不会应用它。"
   ]
  },
  {
   "cell_type": "code",
   "execution_count": 45,
   "id": "1063c2b9",
   "metadata": {},
   "outputs": [
    {
     "data": {
      "text/latex": [
       "$\\displaystyle \\left(t z\\right)^{c}$"
      ],
      "text/plain": [
       "(t*z)**c"
      ]
     },
     "execution_count": 45,
     "metadata": {},
     "output_type": "execute_result"
    }
   ],
   "source": [
    "expand_power_base((z*t)**c)"
   ]
  },
  {
   "cell_type": "markdown",
   "id": "193e758e",
   "metadata": {},
   "source": [
    "与 `powsimp()` 一样，您可以使用 `force=True` 强制扩展发生，而无需摆弄假设。"
   ]
  },
  {
   "cell_type": "code",
   "execution_count": 46,
   "id": "7e05171a",
   "metadata": {},
   "outputs": [
    {
     "data": {
      "text/latex": [
       "$\\displaystyle t^{c} z^{c}$"
      ],
      "text/plain": [
       "t**c*z**c"
      ]
     },
     "execution_count": 46,
     "metadata": {},
     "output_type": "execute_result"
    }
   ],
   "source": [
    "expand_power_base((z*t)**c, force=True)"
   ]
  },
  {
   "cell_type": "markdown",
   "id": "1903b9bd",
   "metadata": {},
   "source": [
    "与等式 2 一样，如果幂是数字，则等式 1 会自动应用，因此无法使用 `expand_power_exp()` 撤消。"
   ]
  },
  {
   "cell_type": "code",
   "execution_count": 47,
   "id": "280c96a8",
   "metadata": {},
   "outputs": [
    {
     "data": {
      "text/latex": [
       "$\\displaystyle x^{5}$"
      ],
      "text/plain": [
       "x**5"
      ]
     },
     "execution_count": 47,
     "metadata": {},
     "output_type": "execute_result"
    }
   ],
   "source": [
    "x**2*x**3"
   ]
  },
  {
   "cell_type": "code",
   "execution_count": 48,
   "id": "563deb5f",
   "metadata": {},
   "outputs": [
    {
     "data": {
      "text/latex": [
       "$\\displaystyle x^{5}$"
      ],
      "text/plain": [
       "x**5"
      ]
     },
     "execution_count": 48,
     "metadata": {},
     "output_type": "execute_result"
    }
   ],
   "source": [
    "expand_power_exp(x**5)"
   ]
  },
  {
   "cell_type": "markdown",
   "id": "9b4acf48",
   "metadata": {},
   "source": [
    "### `powdenest`\n",
    "\n",
    "`powdenest()` 从左到右应用恒等式 3。"
   ]
  },
  {
   "cell_type": "code",
   "execution_count": 49,
   "id": "7811ecb2",
   "metadata": {},
   "outputs": [
    {
     "data": {
      "text/latex": [
       "$\\displaystyle x^{a b}$"
      ],
      "text/plain": [
       "x**(a*b)"
      ]
     },
     "execution_count": 49,
     "metadata": {},
     "output_type": "execute_result"
    }
   ],
   "source": [
    "powdenest((x**a)**b)"
   ]
  },
  {
   "cell_type": "markdown",
   "id": "95848536",
   "metadata": {},
   "source": [
    "和以前一样，如果在给定的假设下不正确，则不应用该等式。"
   ]
  },
  {
   "cell_type": "code",
   "execution_count": 50,
   "id": "4140d22b",
   "metadata": {},
   "outputs": [
    {
     "data": {
      "text/latex": [
       "$\\displaystyle \\left(z^{a}\\right)^{b}$"
      ],
      "text/plain": [
       "(z**a)**b"
      ]
     },
     "execution_count": 50,
     "metadata": {},
     "output_type": "execute_result"
    }
   ],
   "source": [
    "powdenest((z**a)**b)"
   ]
  },
  {
   "cell_type": "markdown",
   "id": "130d0bea",
   "metadata": {},
   "source": [
    "和以前一样，这可以用 `force=True` 手动覆盖。"
   ]
  },
  {
   "cell_type": "code",
   "execution_count": 51,
   "id": "6d231fd0",
   "metadata": {},
   "outputs": [
    {
     "data": {
      "text/latex": [
       "$\\displaystyle z^{a b}$"
      ],
      "text/plain": [
       "z**(a*b)"
      ]
     },
     "execution_count": 51,
     "metadata": {},
     "output_type": "execute_result"
    }
   ],
   "source": [
    "powdenest((z**a)**b, force=True)"
   ]
  },
  {
   "cell_type": "markdown",
   "id": "7b899d1a",
   "metadata": {},
   "source": [
    "## 指数和对数\n",
    "\n",
    "### `expand_log`\n",
    "\n",
    "要从左到右应用等式 1 和 2，请使用 `expand_log()`。 与往常一样，除非有效，否则不会应用等式。"
   ]
  },
  {
   "cell_type": "code",
   "execution_count": 52,
   "id": "bf7e86bd",
   "metadata": {},
   "outputs": [],
   "source": [
    "x, y = symbols('x y', positive=True)\n",
    "n = symbols('n', real=True)"
   ]
  },
  {
   "cell_type": "code",
   "execution_count": 53,
   "id": "eaeb0a03",
   "metadata": {},
   "outputs": [
    {
     "data": {
      "text/latex": [
       "$\\displaystyle \\log{\\left(x \\right)} + \\log{\\left(y \\right)}$"
      ],
      "text/plain": [
       "log(x) + log(y)"
      ]
     },
     "execution_count": 53,
     "metadata": {},
     "output_type": "execute_result"
    }
   ],
   "source": [
    "expand_log(log(x*y))"
   ]
  },
  {
   "cell_type": "code",
   "execution_count": 54,
   "id": "efc219e9",
   "metadata": {},
   "outputs": [
    {
     "data": {
      "text/latex": [
       "$\\displaystyle \\log{\\left(x \\right)} - \\log{\\left(y \\right)}$"
      ],
      "text/plain": [
       "log(x) - log(y)"
      ]
     },
     "execution_count": 54,
     "metadata": {},
     "output_type": "execute_result"
    }
   ],
   "source": [
    "expand_log(log(x/y))"
   ]
  },
  {
   "cell_type": "code",
   "execution_count": 55,
   "id": "6f550532",
   "metadata": {},
   "outputs": [
    {
     "data": {
      "text/latex": [
       "$\\displaystyle 2 \\log{\\left(x \\right)}$"
      ],
      "text/plain": [
       "2*log(x)"
      ]
     },
     "execution_count": 55,
     "metadata": {},
     "output_type": "execute_result"
    }
   ],
   "source": [
    "expand_log(log(x**2))"
   ]
  },
  {
   "cell_type": "code",
   "execution_count": 56,
   "id": "d216c701",
   "metadata": {},
   "outputs": [
    {
     "data": {
      "text/latex": [
       "$\\displaystyle n \\log{\\left(x \\right)}$"
      ],
      "text/plain": [
       "n*log(x)"
      ]
     },
     "execution_count": 56,
     "metadata": {},
     "output_type": "execute_result"
    }
   ],
   "source": [
    "expand_log(log(x**n))"
   ]
  },
  {
   "cell_type": "code",
   "execution_count": 57,
   "id": "ed7e1323",
   "metadata": {},
   "outputs": [
    {
     "data": {
      "text/latex": [
       "$\\displaystyle \\log{\\left(t z \\right)}$"
      ],
      "text/plain": [
       "log(t*z)"
      ]
     },
     "execution_count": 57,
     "metadata": {},
     "output_type": "execute_result"
    }
   ],
   "source": [
    "expand_log(log(z*t))"
   ]
  },
  {
   "cell_type": "markdown",
   "id": "65a343fc",
   "metadata": {},
   "source": [
    "与 `powsimp()` 和 `powdenest()` 一样， `expand_log()` 有一个强制选项，可用于忽略假设。"
   ]
  },
  {
   "cell_type": "code",
   "execution_count": 58,
   "id": "717249d0",
   "metadata": {},
   "outputs": [
    {
     "data": {
      "text/latex": [
       "$\\displaystyle \\log{\\left(z^{2} \\right)}$"
      ],
      "text/plain": [
       "log(z**2)"
      ]
     },
     "execution_count": 58,
     "metadata": {},
     "output_type": "execute_result"
    }
   ],
   "source": [
    "expand_log(log(z**2))"
   ]
  },
  {
   "cell_type": "code",
   "execution_count": 59,
   "id": "7f22ba64",
   "metadata": {},
   "outputs": [
    {
     "data": {
      "text/latex": [
       "$\\displaystyle 2 \\log{\\left(z \\right)}$"
      ],
      "text/plain": [
       "2*log(z)"
      ]
     },
     "execution_count": 59,
     "metadata": {},
     "output_type": "execute_result"
    }
   ],
   "source": [
    "expand_log(log(z**2), force=True)"
   ]
  },
  {
   "cell_type": "markdown",
   "id": "dab08dcf",
   "metadata": {},
   "source": [
    "### `logcombine`\n",
    "\n",
    "要从右到左应用等式 1 和 2，请使用 `logcombine()`。"
   ]
  },
  {
   "cell_type": "code",
   "execution_count": 60,
   "id": "d6702897",
   "metadata": {},
   "outputs": [
    {
     "data": {
      "text/latex": [
       "$\\displaystyle \\log{\\left(x y \\right)}$"
      ],
      "text/plain": [
       "log(x*y)"
      ]
     },
     "execution_count": 60,
     "metadata": {},
     "output_type": "execute_result"
    }
   ],
   "source": [
    "logcombine(log(x) + log(y))"
   ]
  },
  {
   "cell_type": "code",
   "execution_count": 61,
   "id": "a9993949",
   "metadata": {},
   "outputs": [
    {
     "data": {
      "text/latex": [
       "$\\displaystyle \\log{\\left(x^{n} \\right)}$"
      ],
      "text/plain": [
       "log(x**n)"
      ]
     },
     "execution_count": 61,
     "metadata": {},
     "output_type": "execute_result"
    }
   ],
   "source": [
    "logcombine(n*log(x))"
   ]
  },
  {
   "cell_type": "code",
   "execution_count": 62,
   "id": "47aeb0f7",
   "metadata": {},
   "outputs": [
    {
     "data": {
      "text/latex": [
       "$\\displaystyle n \\log{\\left(z \\right)}$"
      ],
      "text/plain": [
       "n*log(z)"
      ]
     },
     "execution_count": 62,
     "metadata": {},
     "output_type": "execute_result"
    }
   ],
   "source": [
    "logcombine(n*log(z))"
   ]
  },
  {
   "cell_type": "markdown",
   "id": "14d85e7a",
   "metadata": {},
   "source": [
    "`logcombine()` 也有一个 `force` 选项，可用于忽略假设。"
   ]
  },
  {
   "cell_type": "code",
   "execution_count": 63,
   "id": "6054637a",
   "metadata": {},
   "outputs": [
    {
     "data": {
      "text/latex": [
       "$\\displaystyle \\log{\\left(z^{n} \\right)}$"
      ],
      "text/plain": [
       "log(z**n)"
      ]
     },
     "execution_count": 63,
     "metadata": {},
     "output_type": "execute_result"
    }
   ],
   "source": [
    "logcombine(n*log(z), force=True)"
   ]
  },
  {
   "cell_type": "markdown",
   "id": "f4a496ec",
   "metadata": {},
   "source": [
    "## 特殊函数\n",
    "\n",
    "SymPy 实现了数十种特殊函数，从组合学中的函数到数学物理。\n",
    "\n",
    "SymPy 中包含的特殊函数及其文档的详细列表位于[函数模块](https://docs.sympy.org/latest/modules/functions/index.html#functions-contents)页面。"
   ]
  },
  {
   "cell_type": "code",
   "execution_count": 64,
   "id": "ba948d9a",
   "metadata": {},
   "outputs": [],
   "source": [
    "x, y, z = symbols('x y z')\n",
    "k, m, n = symbols('k m n')"
   ]
  },
  {
   "cell_type": "markdown",
   "id": "1912dd6c",
   "metadata": {},
   "source": [
    "$n!= 1\\cdot2\\cdots(n - 1)\\cdot n$"
   ]
  },
  {
   "cell_type": "code",
   "execution_count": 65,
   "id": "1ac86264",
   "metadata": {},
   "outputs": [
    {
     "data": {
      "text/latex": [
       "$\\displaystyle n!$"
      ],
      "text/plain": [
       "factorial(n)"
      ]
     },
     "execution_count": 65,
     "metadata": {},
     "output_type": "execute_result"
    }
   ],
   "source": [
    "factorial(n)"
   ]
  },
  {
   "cell_type": "markdown",
   "id": "948a296b",
   "metadata": {},
   "source": [
    "$\\binom{n}{k}$"
   ]
  },
  {
   "cell_type": "code",
   "execution_count": 66,
   "id": "b6ae3704",
   "metadata": {},
   "outputs": [
    {
     "data": {
      "text/latex": [
       "$\\displaystyle {\\binom{n}{k}}$"
      ],
      "text/plain": [
       "binomial(n, k)"
      ]
     },
     "execution_count": 66,
     "metadata": {},
     "output_type": "execute_result"
    }
   ],
   "source": [
    "binomial(n, k)"
   ]
  },
  {
   "cell_type": "markdown",
   "id": "98dea778",
   "metadata": {},
   "source": [
    "$\\Gamma(z) = \\int_0^\\infty t^{z - 1}e^{-t}\\,dt$"
   ]
  },
  {
   "cell_type": "code",
   "execution_count": 67,
   "id": "32f43406",
   "metadata": {},
   "outputs": [
    {
     "data": {
      "text/latex": [
       "$\\displaystyle \\Gamma\\left(z\\right)$"
      ],
      "text/plain": [
       "gamma(z)"
      ]
     },
     "execution_count": 67,
     "metadata": {},
     "output_type": "execute_result"
    }
   ],
   "source": [
    "gamma(z)"
   ]
  },
  {
   "cell_type": "markdown",
   "id": "71f49890",
   "metadata": {},
   "source": [
    "${}_pF_q\\left(\\begin{matrix} a_1, \\cdots, a_p \\\\ b_1, \\cdots, b_q \\end{matrix}\n",
    "\\middle| z \\right)$"
   ]
  },
  {
   "cell_type": "code",
   "execution_count": 68,
   "id": "ce3464c8",
   "metadata": {},
   "outputs": [
    {
     "data": {
      "text/latex": [
       "$\\displaystyle {{}_{2}F_{1}\\left(\\begin{matrix} 1, 2 \\\\ 3 \\end{matrix}\\middle| {z} \\right)}$"
      ],
      "text/plain": [
       "hyper((1, 2), (3,), z)"
      ]
     },
     "execution_count": 68,
     "metadata": {},
     "output_type": "execute_result"
    }
   ],
   "source": [
    "hyper([1, 2], [3], z)"
   ]
  },
  {
   "cell_type": "markdown",
   "id": "6e9d68b7",
   "metadata": {},
   "source": [
    "### `rewrite`\n",
    "\n",
    "处理特殊函数的一种常见方法是将它们相互重写。这适用于 SymPy 中的任何函数，而不仅仅是特殊函数。要根据函数重写表达式，请使用 `expr.rewrite(function)`。例如，"
   ]
  },
  {
   "cell_type": "code",
   "execution_count": 69,
   "id": "a786cf7d",
   "metadata": {},
   "outputs": [
    {
     "data": {
      "text/latex": [
       "$\\displaystyle \\frac{2 \\sin^{2}{\\left(x \\right)}}{\\sin{\\left(2 x \\right)}}$"
      ],
      "text/plain": [
       "2*sin(x)**2/sin(2*x)"
      ]
     },
     "execution_count": 69,
     "metadata": {},
     "output_type": "execute_result"
    }
   ],
   "source": [
    "tan(x).rewrite(sin)"
   ]
  },
  {
   "cell_type": "code",
   "execution_count": 70,
   "id": "0003a524",
   "metadata": {},
   "outputs": [
    {
     "data": {
      "text/latex": [
       "$\\displaystyle \\Gamma\\left(x + 1\\right)$"
      ],
      "text/plain": [
       "gamma(x + 1)"
      ]
     },
     "execution_count": 70,
     "metadata": {},
     "output_type": "execute_result"
    }
   ],
   "source": [
    "factorial(x).rewrite(gamma)"
   ]
  },
  {
   "cell_type": "markdown",
   "id": "8e2f1f15",
   "metadata": {},
   "source": [
    "### `expand_func`\n",
    "\n",
    "要根据某些等式扩展特殊功能，请使用 `expand_func()`。例如"
   ]
  },
  {
   "cell_type": "code",
   "execution_count": 71,
   "id": "43705277",
   "metadata": {},
   "outputs": [
    {
     "data": {
      "text/latex": [
       "$\\displaystyle x \\left(x + 1\\right) \\left(x + 2\\right) \\Gamma\\left(x\\right)$"
      ],
      "text/plain": [
       "x*(x + 1)*(x + 2)*gamma(x)"
      ]
     },
     "execution_count": 71,
     "metadata": {},
     "output_type": "execute_result"
    }
   ],
   "source": [
    "expand_func(gamma(x + 3))"
   ]
  },
  {
   "cell_type": "markdown",
   "id": "3fca854f",
   "metadata": {},
   "source": [
    "### `hyperexpand`\n",
    "\n",
    "要根据更标准的函数重写 hyper，请使用 `hyperexpand()`。"
   ]
  },
  {
   "cell_type": "code",
   "execution_count": 72,
   "id": "eebebdd5",
   "metadata": {},
   "outputs": [
    {
     "data": {
      "text/latex": [
       "$\\displaystyle - \\frac{\\log{\\left(1 - z \\right)}}{z}$"
      ],
      "text/plain": [
       "-log(1 - z)/z"
      ]
     },
     "execution_count": 72,
     "metadata": {},
     "output_type": "execute_result"
    }
   ],
   "source": [
    "hyperexpand(hyper([1, 1], [2], z))"
   ]
  },
  {
   "cell_type": "markdown",
   "id": "9b97c344",
   "metadata": {},
   "source": [
    "`hyperexpand()` 也适用于更通用的 Meijer G 函数"
   ]
  },
  {
   "cell_type": "code",
   "execution_count": 73,
   "id": "025dfc2c",
   "metadata": {},
   "outputs": [
    {
     "data": {
      "text/latex": [
       "$\\displaystyle {G_{2, 1}^{1, 1}\\left(\\begin{matrix} 1 & 1 \\\\1 &  \\end{matrix} \\middle| {- z} \\right)}$"
      ],
      "text/plain": [
       "meijerg(((1,), (1,)), ((1,), ()), -z)"
      ]
     },
     "execution_count": 73,
     "metadata": {},
     "output_type": "execute_result"
    }
   ],
   "source": [
    "expr = meijerg([[1],[1]], [[1],[]], -z)\n",
    "expr"
   ]
  },
  {
   "cell_type": "code",
   "execution_count": 74,
   "id": "7df1c00c",
   "metadata": {},
   "outputs": [
    {
     "data": {
      "text/latex": [
       "$\\displaystyle e^{\\frac{1}{z}}$"
      ],
      "text/plain": [
       "exp(1/z)"
      ]
     },
     "execution_count": 74,
     "metadata": {},
     "output_type": "execute_result"
    }
   ],
   "source": [
    "hyperexpand(expr)"
   ]
  },
  {
   "cell_type": "markdown",
   "id": "be993f85",
   "metadata": {},
   "source": [
    "### `combsimp`\n",
    "\n",
    "要简化组合表达式，请使用 `combsimp()`。"
   ]
  },
  {
   "cell_type": "code",
   "execution_count": 75,
   "id": "48a1c9f6",
   "metadata": {},
   "outputs": [
    {
     "data": {
      "text/latex": [
       "$\\displaystyle n \\left(n - 2\\right) \\left(n - 1\\right)$"
      ],
      "text/plain": [
       "n*(n - 2)*(n - 1)"
      ]
     },
     "execution_count": 75,
     "metadata": {},
     "output_type": "execute_result"
    }
   ],
   "source": [
    "n, k = symbols('n k', integer = True)\n",
    "combsimp(factorial(n)/factorial(n - 3))"
   ]
  },
  {
   "cell_type": "code",
   "execution_count": 76,
   "id": "b83d79e8",
   "metadata": {},
   "outputs": [
    {
     "data": {
      "text/latex": [
       "$\\displaystyle \\frac{n + 1}{k + 1}$"
      ],
      "text/plain": [
       "(n + 1)/(k + 1)"
      ]
     },
     "execution_count": 76,
     "metadata": {},
     "output_type": "execute_result"
    }
   ],
   "source": [
    "combsimp(binomial(n+1, k+1)/binomial(n, k))"
   ]
  },
  {
   "cell_type": "markdown",
   "id": "dc84c1c8",
   "metadata": {},
   "source": [
    "### `gammasimp`\n",
    "\n",
    "要使用具有非整数参数的 gamma 函数或组合函数来简化表达式，请使用 `gammasimp()`。"
   ]
  },
  {
   "cell_type": "code",
   "execution_count": 77,
   "id": "5a044335",
   "metadata": {},
   "outputs": [
    {
     "data": {
      "text/latex": [
       "$\\displaystyle \\frac{\\pi}{\\sin{\\left(\\pi x \\right)}}$"
      ],
      "text/plain": [
       "pi/sin(pi*x)"
      ]
     },
     "execution_count": 77,
     "metadata": {},
     "output_type": "execute_result"
    }
   ],
   "source": [
    "gammasimp(gamma(x)*gamma(1 - x))"
   ]
  },
  {
   "cell_type": "markdown",
   "id": "1ab941a1",
   "metadata": {},
   "source": [
    "## 示例：连续分数\n",
    "\n",
    "让我们使用 SymPy 来探索[连分数](https://en.wikipedia.org/wiki/Continued_fraction)。连分数是以下形式的表达式\n",
    "\n",
    "$$\n",
    "a_0 + \\cfrac{1}{a_1 + \\cfrac{1}{a_2 + \\cfrac{1}{ \\ddots + \\cfrac{1}{a_n}\n",
    "}}}\n",
    "$$"
   ]
  },
  {
   "cell_type": "code",
   "execution_count": 78,
   "id": "70b72d28",
   "metadata": {},
   "outputs": [
    {
     "data": {
      "text/latex": [
       "$\\displaystyle x + \\frac{1}{y + \\frac{1}{z}}$"
      ],
      "text/plain": [
       "x + 1/(y + 1/z)"
      ]
     },
     "execution_count": 78,
     "metadata": {},
     "output_type": "execute_result"
    }
   ],
   "source": [
    "def list_to_frac(l):\n",
    "    expr = Integer(0)\n",
    "    for i in reversed(l[1:]):\n",
    "        expr += i\n",
    "        expr = 1/expr\n",
    "    return l[0] + expr\n",
    "\n",
    "list_to_frac([x, y, z])"
   ]
  },
  {
   "cell_type": "code",
   "execution_count": 79,
   "id": "2fc6a1f8",
   "metadata": {},
   "outputs": [
    {
     "data": {
      "text/latex": [
       "$\\displaystyle \\frac{43}{30}$"
      ],
      "text/plain": [
       "43/30"
      ]
     },
     "execution_count": 79,
     "metadata": {},
     "output_type": "execute_result"
    }
   ],
   "source": [
    "list_to_frac([1, 2, 3, 4])"
   ]
  },
  {
   "cell_type": "code",
   "execution_count": 80,
   "id": "42173647",
   "metadata": {},
   "outputs": [
    {
     "data": {
      "text/plain": [
       "(a0, a1, a2, a3, a4)"
      ]
     },
     "execution_count": 80,
     "metadata": {},
     "output_type": "execute_result"
    }
   ],
   "source": [
    "syms = symbols('a0:5')\n",
    "syms"
   ]
  },
  {
   "cell_type": "code",
   "execution_count": 81,
   "id": "2b696380",
   "metadata": {},
   "outputs": [
    {
     "data": {
      "text/latex": [
       "$\\displaystyle a_{0} + \\frac{1}{a_{1} + \\frac{1}{a_{2} + \\frac{1}{a_{3} + \\frac{1}{a_{4}}}}}$"
      ],
      "text/plain": [
       "a0 + 1/(a1 + 1/(a2 + 1/(a3 + 1/a4)))"
      ]
     },
     "execution_count": 81,
     "metadata": {},
     "output_type": "execute_result"
    }
   ],
   "source": [
    "frac = list_to_frac(syms)\n",
    "frac"
   ]
  },
  {
   "cell_type": "code",
   "execution_count": 82,
   "id": "8a462b53",
   "metadata": {},
   "outputs": [
    {
     "data": {
      "text/latex": [
       "$\\displaystyle \\frac{a_{0} a_{1} a_{2} a_{3} a_{4} + a_{0} a_{1} a_{2} + a_{0} a_{1} a_{4} + a_{0} a_{3} a_{4} + a_{0} + a_{2} a_{3} a_{4} + a_{2} + a_{4}}{a_{1} a_{2} a_{3} a_{4} + a_{1} a_{2} + a_{1} a_{4} + a_{3} a_{4} + 1}$"
      ],
      "text/plain": [
       "(a0*a1*a2*a3*a4 + a0*a1*a2 + a0*a1*a4 + a0*a3*a4 + a0 + a2*a3*a4 + a2 + a4)/(a1*a2*a3*a4 + a1*a2 + a1*a4 + a3*a4 + 1)"
      ]
     },
     "execution_count": 82,
     "metadata": {},
     "output_type": "execute_result"
    }
   ],
   "source": [
    "frac = cancel(frac)\n",
    "frac"
   ]
  },
  {
   "cell_type": "code",
   "execution_count": null,
   "id": "2d8df36a",
   "metadata": {},
   "outputs": [],
   "source": []
  }
 ],
 "metadata": {
  "jupytext": {
   "formats": "md:myst",
   "text_representation": {
    "extension": ".md",
    "format_name": "myst",
    "format_version": 0.13,
    "jupytext_version": "1.10.3"
   }
  },
  "kernelspec": {
   "display_name": "ai",
   "language": "python",
   "name": "ai"
  },
  "language_info": {
   "codemirror_mode": {
    "name": "ipython",
    "version": 3
   },
   "file_extension": ".py",
   "mimetype": "text/x-python",
   "name": "python",
   "nbconvert_exporter": "python",
   "pygments_lexer": "ipython3",
   "version": "3.8.5"
  },
  "source_map": [
   13,
   21,
   25,
   29,
   33,
   37,
   39,
   45,
   47,
   51,
   53,
   59,
   63,
   65,
   71,
   73,
   79,
   83,
   85,
   89,
   91,
   95,
   99,
   101,
   107,
   112,
   115,
   119,
   121,
   127,
   131,
   136,
   140,
   145,
   147,
   151,
   153,
   160,
   165,
   167,
   175,
   179,
   183,
   185,
   189,
   193,
   195,
   203,
   207,
   209,
   213,
   215,
   230,
   234,
   238,
   240,
   246,
   250,
   252,
   256,
   258,
   262,
   264,
   268,
   272,
   274,
   278,
   280,
   286,
   290,
   292,
   296,
   298,
   302,
   304,
   308,
   312,
   314,
   320,
   322,
   326,
   328,
   332,
   334,
   342,
   347,
   351,
   355,
   359,
   363,
   365,
   369,
   373,
   375,
   381,
   385,
   389,
   391,
   395,
   397,
   405,
   408,
   412,
   414,
   418,
   420,
   424,
   426,
   431,
   433,
   439,
   443,
   445,
   451,
   453,
   459,
   461,
   465,
   470,
   472,
   478,
   483,
   485,
   491,
   493,
   504,
   515,
   519,
   524,
   529,
   534
  ]
 },
 "nbformat": 4,
 "nbformat_minor": 5
}