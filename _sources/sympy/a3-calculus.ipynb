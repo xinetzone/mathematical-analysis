{
 "cells": [
  {
   "cell_type": "markdown",
   "id": "c2057f38",
   "metadata": {},
   "source": [
    "# 计算\n",
    "\n",
    "[Calculus — SymPy 1.8 documentation](https://docs.sympy.org/latest/tutorial/calculus.html)"
   ]
  },
  {
   "cell_type": "code",
   "execution_count": null,
   "id": "9201fdf6",
   "metadata": {},
   "outputs": [],
   "source": []
  }
 ],
 "metadata": {
  "jupytext": {
   "formats": "md:myst",
   "text_representation": {
    "extension": ".md",
    "format_name": "myst",
    "format_version": 0.13,
    "jupytext_version": "1.10.3"
   }
  },
  "kernelspec": {
   "display_name": "ai",
   "language": "python",
   "name": "ai"
  },
  "language_info": {
   "codemirror_mode": {
    "name": "ipython",
    "version": 3
   },
   "file_extension": ".py",
   "mimetype": "text/x-python",
   "name": "python",
   "nbconvert_exporter": "python",
   "pygments_lexer": "ipython3",
   "version": "3.8.5"
  },
  "source_map": [
   13,
   19
  ]
 },
 "nbformat": 4,
 "nbformat_minor": 5
}