{
 "cells": [
  {
   "cell_type": "markdown",
   "id": "fd81b505",
   "metadata": {},
   "source": [
    "# 简介\n",
    "\n",
    "符号计算\n",
    ": 符号计算（Symbolic Computation）是以符号的方式处理数学对象的计算。这意味着数学对象被精确的表示，而不是近似的表示，带有未求值的数学表达式保留符号形式。\n",
    "\n",
    "下面举几个例子来说明符号计算的好处。\n",
    "\n",
    "## 精确求值\n",
    "\n",
    "对于 $\\sqrt{9}=3$ 这个数学常识，我们一定不会陌生。可以直接使用 Python 内建库求取："
   ]
  },
  {
   "cell_type": "code",
   "execution_count": 1,
   "id": "4e52a80e",
   "metadata": {},
   "outputs": [
    {
     "data": {
      "text/plain": [
       "3.0"
      ]
     },
     "execution_count": 1,
     "metadata": {},
     "output_type": "execute_result"
    }
   ],
   "source": [
    "import math\n",
    "math.sqrt(9)"
   ]
  },
  {
   "cell_type": "markdown",
   "id": "4182f97b",
   "metadata": {},
   "source": [
    "此时，符合数学直观。但是，对于 $\\sqrt{8}$ 可能并不一定会那么的准确："
   ]
  },
  {
   "cell_type": "code",
   "execution_count": 2,
   "id": "d870b761",
   "metadata": {},
   "outputs": [
    {
     "data": {
      "text/plain": [
       "2.8284271247461903"
      ]
     },
     "execution_count": 2,
     "metadata": {},
     "output_type": "execute_result"
    }
   ],
   "source": [
    "math.sqrt(8)"
   ]
  },
  {
   "cell_type": "markdown",
   "id": "626017f6",
   "metadata": {},
   "source": [
    "这里得到的是 $\\sqrt{8}$ 的近似值（因为 $\\sqrt{8}$ 是无理数，不能使用有限小数表示）。如果仅仅是想要获得 $\\sqrt{8}$ 的近似值，这样就结束是没有问题的，但是，想要通过下面的近似值立即判断 $\\sqrt{8} = 2\\sqrt{2}$："
   ]
  },
  {
   "cell_type": "code",
   "execution_count": 3,
   "id": "99226484",
   "metadata": {},
   "outputs": [
    {
     "data": {
      "text/plain": [
       "(2.8284271247461903, 1.4142135623730951)"
      ]
     },
     "execution_count": 3,
     "metadata": {},
     "output_type": "execute_result"
    }
   ],
   "source": [
    "math.sqrt(8), math.sqrt(2)"
   ]
  },
  {
   "cell_type": "markdown",
   "id": "9b7a8263",
   "metadata": {},
   "source": [
    "是很难的。对于符号计算，则是很容易的："
   ]
  },
  {
   "cell_type": "code",
   "execution_count": 4,
   "id": "24cd06aa",
   "metadata": {},
   "outputs": [
    {
     "data": {
      "text/latex": [
       "$\\displaystyle 2 \\sqrt{2}$"
      ],
      "text/plain": [
       "2*sqrt(2)"
      ]
     },
     "execution_count": 4,
     "metadata": {},
     "output_type": "execute_result"
    }
   ],
   "source": [
    "import sympy\n",
    "sympy.sqrt(8)"
   ]
  },
  {
   "cell_type": "markdown",
   "id": "ed061116",
   "metadata": {},
   "source": [
    "## 数学表达式\n",
    "\n",
    "\n",
    "上面的例子可以看出 SymPy 可以精确的表达数学概念。符号计算系统（Symbolic computation systems，也称为 CAS（computer algebra systems）） 可以使用变量计算数学表达式：\n",
    "\n",
    "数学变量是使用 `symbols` 定义的。比如，可以定义数学表达式 $x + 2y$："
   ]
  },
  {
   "cell_type": "code",
   "execution_count": 5,
   "id": "847dd2bf",
   "metadata": {},
   "outputs": [
    {
     "data": {
      "text/latex": [
       "$\\displaystyle x + 2 y$"
      ],
      "text/plain": [
       "x + 2*y"
      ]
     },
     "execution_count": 5,
     "metadata": {},
     "output_type": "execute_result"
    }
   ],
   "source": [
    "from sympy import symbols\n",
    "\n",
    "x, y = symbols('x y')\n",
    "expr = x + 2*y\n",
    "expr"
   ]
  },
  {
   "cell_type": "markdown",
   "id": "17fd9cf5",
   "metadata": {},
   "source": [
    "可以继续对数学表达式 `expr` 进行计算："
   ]
  },
  {
   "cell_type": "code",
   "execution_count": 6,
   "id": "e0822d73",
   "metadata": {},
   "outputs": [
    {
     "data": {
      "text/latex": [
       "$\\displaystyle x + 2 y + 1$"
      ],
      "text/plain": [
       "x + 2*y + 1"
      ]
     },
     "execution_count": 6,
     "metadata": {},
     "output_type": "execute_result"
    }
   ],
   "source": [
    "expr + 1"
   ]
  },
  {
   "cell_type": "code",
   "execution_count": 7,
   "id": "c29ae4f0",
   "metadata": {},
   "outputs": [
    {
     "data": {
      "text/latex": [
       "$\\displaystyle 2 y$"
      ],
      "text/plain": [
       "2*y"
      ]
     },
     "execution_count": 7,
     "metadata": {},
     "output_type": "execute_result"
    }
   ],
   "source": [
    "expr - x"
   ]
  },
  {
   "cell_type": "code",
   "execution_count": 8,
   "id": "7b941517",
   "metadata": {},
   "outputs": [
    {
     "data": {
      "text/latex": [
       "$\\displaystyle x \\left(x + 2 y\\right)$"
      ],
      "text/plain": [
       "x*(x + 2*y)"
      ]
     },
     "execution_count": 8,
     "metadata": {},
     "output_type": "execute_result"
    }
   ],
   "source": [
    "x*expr"
   ]
  },
  {
   "cell_type": "markdown",
   "id": "a88d1689",
   "metadata": {},
   "source": [
    "也可以对数学表达式进行因式分解或者展示："
   ]
  },
  {
   "cell_type": "code",
   "execution_count": 9,
   "id": "b41187b0",
   "metadata": {},
   "outputs": [
    {
     "data": {
      "text/latex": [
       "$\\displaystyle x^{2} + 2 x y$"
      ],
      "text/plain": [
       "x**2 + 2*x*y"
      ]
     },
     "execution_count": 9,
     "metadata": {},
     "output_type": "execute_result"
    }
   ],
   "source": [
    "from sympy import expand, factor\n",
    "\n",
    "expanded_expr = expand(x*expr)\n",
    "expanded_expr # 展示表达式"
   ]
  },
  {
   "cell_type": "code",
   "execution_count": 10,
   "id": "a69028cc",
   "metadata": {},
   "outputs": [
    {
     "data": {
      "text/latex": [
       "$\\displaystyle x \\left(x + 2 y\\right)$"
      ],
      "text/plain": [
       "x*(x + 2*y)"
      ]
     },
     "execution_count": 10,
     "metadata": {},
     "output_type": "execute_result"
    }
   ],
   "source": [
    "factor(expanded_expr) # 转换为因子分解表达式"
   ]
  },
  {
   "cell_type": "markdown",
   "id": "c596b1d0",
   "metadata": {},
   "source": [
    "## 求导和求积分"
   ]
  },
  {
   "cell_type": "code",
   "execution_count": 11,
   "id": "b5dd10b5",
   "metadata": {},
   "outputs": [],
   "source": [
    "from sympy import *"
   ]
  },
  {
   "cell_type": "markdown",
   "id": "2d888eb5",
   "metadata": {},
   "source": [
    "计算：$\\sin(x) \\exp(x)$ 的导数："
   ]
  },
  {
   "cell_type": "code",
   "execution_count": 12,
   "id": "aeb664b1",
   "metadata": {},
   "outputs": [
    {
     "data": {
      "text/latex": [
       "$\\displaystyle e^{x} \\sin{\\left(x \\right)} + e^{x} \\cos{\\left(x \\right)}$"
      ],
      "text/plain": [
       "exp(x)*sin(x) + exp(x)*cos(x)"
      ]
     },
     "execution_count": 12,
     "metadata": {},
     "output_type": "execute_result"
    }
   ],
   "source": [
    "diff(sin(x)*exp(x), x)"
   ]
  },
  {
   "cell_type": "markdown",
   "id": "3950428f",
   "metadata": {},
   "source": [
    "计算：$\\int(e^x\\sin{(x)} + e^x\\cos{(x)})\\mathsf{d}x$"
   ]
  },
  {
   "cell_type": "code",
   "execution_count": 13,
   "id": "373c8f29",
   "metadata": {},
   "outputs": [
    {
     "data": {
      "text/latex": [
       "$\\displaystyle e^{x} \\sin{\\left(x \\right)}$"
      ],
      "text/plain": [
       "exp(x)*sin(x)"
      ]
     },
     "execution_count": 13,
     "metadata": {},
     "output_type": "execute_result"
    }
   ],
   "source": [
    "integrate(exp(x)*sin(x) + exp(x)*cos(x), x)"
   ]
  },
  {
   "cell_type": "markdown",
   "id": "f3a36dda",
   "metadata": {},
   "source": [
    "计算：$\\int_{-\\infty}^\\infty \\sin{(x^2)}\\mathsf{d}x$"
   ]
  },
  {
   "cell_type": "code",
   "execution_count": 14,
   "id": "e6430eee",
   "metadata": {},
   "outputs": [
    {
     "data": {
      "text/latex": [
       "$\\displaystyle \\frac{\\sqrt{2} \\sqrt{\\pi}}{2}$"
      ],
      "text/plain": [
       "sqrt(2)*sqrt(pi)/2"
      ]
     },
     "execution_count": 14,
     "metadata": {},
     "output_type": "execute_result"
    }
   ],
   "source": [
    "integrate(sin(x**2), (x, -oo, oo))"
   ]
  },
  {
   "cell_type": "markdown",
   "id": "c7e32944",
   "metadata": {},
   "source": [
    "计算：$\\lim_{x\\to 0} \\frac{\\sin{(x)}}{x}$"
   ]
  },
  {
   "cell_type": "code",
   "execution_count": 15,
   "id": "dac8825d",
   "metadata": {},
   "outputs": [
    {
     "data": {
      "text/latex": [
       "$\\displaystyle 1$"
      ],
      "text/plain": [
       "1"
      ]
     },
     "execution_count": 15,
     "metadata": {},
     "output_type": "execute_result"
    }
   ],
   "source": [
    "limit(sin(x)/x, x, 0)"
   ]
  },
  {
   "cell_type": "markdown",
   "id": "af3dc5d6",
   "metadata": {},
   "source": [
    "## 其他\n",
    "\n",
    "解方程：$x^2−2=0$"
   ]
  },
  {
   "cell_type": "code",
   "execution_count": 16,
   "id": "b148b47b",
   "metadata": {},
   "outputs": [],
   "source": [
    "init_printing(use_latex='mathjax')"
   ]
  },
  {
   "cell_type": "code",
   "execution_count": 17,
   "id": "987a8bef",
   "metadata": {},
   "outputs": [
    {
     "data": {
      "text/latex": [
       "$\\displaystyle \\left[ - \\sqrt{2}, \\  \\sqrt{2}\\right]$"
      ],
      "text/plain": [
       "[-√2, √2]"
      ]
     },
     "execution_count": 17,
     "metadata": {},
     "output_type": "execute_result"
    }
   ],
   "source": [
    "solve(x**2 - 2, x)"
   ]
  },
  {
   "cell_type": "markdown",
   "id": "76bcce9e",
   "metadata": {},
   "source": [
    "解微分方程：$y'' - y = e^t$"
   ]
  },
  {
   "cell_type": "code",
   "execution_count": 18,
   "id": "5233606c",
   "metadata": {},
   "outputs": [
    {
     "data": {
      "text/latex": [
       "$\\displaystyle y{\\left(t \\right)} = C_{2} e^{- t} + \\left(C_{1} + \\frac{t}{2}\\right) e^{t}$"
      ],
      "text/plain": [
       "           -t   ⎛     t⎞  t\n",
       "y(t) = C₂⋅ℯ   + ⎜C₁ + ─⎟⋅ℯ \n",
       "                ⎝     2⎠   "
      ]
     },
     "execution_count": 18,
     "metadata": {},
     "output_type": "execute_result"
    }
   ],
   "source": [
    "y = Function('y')\n",
    "t = symbols('t')\n",
    "dsolve(Eq(y(t).diff(t, t) - y(t), exp(t)), y(t))"
   ]
  },
  {
   "cell_type": "markdown",
   "id": "8d61826f",
   "metadata": {},
   "source": [
    "计算 $\\left[\\begin{smallmatrix}1 & 2\\\\2 &\n",
    "2\\end{smallmatrix}\\right]$ 的奇异值："
   ]
  },
  {
   "cell_type": "code",
   "execution_count": 19,
   "id": "eaa1cbb2",
   "metadata": {},
   "outputs": [
    {
     "data": {
      "text/latex": [
       "$\\displaystyle \\left\\{ \\frac{3}{2} - \\frac{\\sqrt{17}}{2} : 1, \\  \\frac{3}{2} + \\frac{\\sqrt{17}}{2} : 1\\right\\}$"
      ],
      "text/plain": [
       "⎧3   √17     3   √17   ⎫\n",
       "⎨─ - ───: 1, ─ + ───: 1⎬\n",
       "⎩2    2      2    2    ⎭"
      ]
     },
     "execution_count": 19,
     "metadata": {},
     "output_type": "execute_result"
    }
   ],
   "source": [
    "Matrix([[1, 2], [2, 2]]).eigenvals()"
   ]
  },
  {
   "cell_type": "markdown",
   "id": "16985a05",
   "metadata": {},
   "source": [
    "使用球面 Bessel 函数 $j_\\nu(z)$ 重写 Bessel 函数 $J_{\\nu}\\left(z\\right)$"
   ]
  },
  {
   "cell_type": "code",
   "execution_count": 20,
   "id": "54891fed",
   "metadata": {},
   "outputs": [
    {
     "data": {
      "text/latex": [
       "$\\displaystyle \\frac{\\sqrt{2} \\sqrt{z} j_{\\nu - \\frac{1}{2}}\\left(z\\right)}{\\sqrt{\\pi}}$"
      ],
      "text/plain": [
       "√2⋅√z⋅jn(ν - 1/2, z)\n",
       "────────────────────\n",
       "         √π         "
      ]
     },
     "execution_count": 20,
     "metadata": {},
     "output_type": "execute_result"
    }
   ],
   "source": [
    "nu, z = symbols('nu z')\n",
    "besselj(nu, z).rewrite(jn)"
   ]
  },
  {
   "cell_type": "code",
   "execution_count": null,
   "id": "1636577a",
   "metadata": {},
   "outputs": [],
   "source": []
  }
 ],
 "metadata": {
  "jupytext": {
   "formats": "md:myst",
   "text_representation": {
    "extension": ".md",
    "format_name": "myst",
    "format_version": 0.13,
    "jupytext_version": "1.10.3"
   }
  },
  "kernelspec": {
   "display_name": "ai",
   "language": "python",
   "name": "ai"
  },
  "language_info": {
   "codemirror_mode": {
    "name": "ipython",
    "version": 3
   },
   "file_extension": ".py",
   "mimetype": "text/x-python",
   "name": "python",
   "nbconvert_exporter": "python",
   "pygments_lexer": "ipython3",
   "version": "3.8.5"
  },
  "source_map": [
   13,
   26,
   29,
   33,
   35,
   39,
   41,
   45,
   48,
   57,
   63,
   67,
   71,
   75,
   77,
   81,
   88,
   90,
   94,
   96,
   100,
   102,
   106,
   108,
   112,
   114,
   118,
   120,
   126,
   130,
   132,
   136,
   140,
   145,
   147,
   151,
   156
  ]
 },
 "nbformat": 4,
 "nbformat_minor": 5
}