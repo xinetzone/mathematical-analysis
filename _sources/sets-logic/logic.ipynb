{
 "cells": [
  {
   "cell_type": "markdown",
   "id": "da0e4fdc",
   "metadata": {},
   "source": [
    "# 逻辑"
   ]
  },
  {
   "cell_type": "code",
   "execution_count": null,
   "id": "ac493915",
   "metadata": {},
   "outputs": [],
   "source": []
  }
 ],
 "metadata": {
  "kernelspec": {
   "display_name": "ai",
   "language": "python",
   "name": "ai"
  },
  "language_info": {
   "codemirror_mode": {
    "name": "ipython",
    "version": 3
   },
   "file_extension": ".py",
   "mimetype": "text/x-python",
   "name": "python",
   "nbconvert_exporter": "python",
   "pygments_lexer": "ipython3",
   "version": "3.9.4"
  }
 },
 "nbformat": 4,
 "nbformat_minor": 5
}
